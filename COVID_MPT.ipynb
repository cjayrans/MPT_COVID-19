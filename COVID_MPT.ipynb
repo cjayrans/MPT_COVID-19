{
 "cells": [
  {
   "cell_type": "markdown",
   "metadata": {},
   "source": [
    "# Modern Portfolio Theory - COVID-19\n",
    "\n",
    "Modern Portfolio Theory is a theory on how to optimize returns based on a given level of market risk observed using historical data. Modern portfolio theory argues that an investment's risk and return characteristics should not be viewed alone, but should be evaluated by how the investment affects the overall portfolio's risk and return. MPT shows that an investor can construct a portfolio of multiple assets that will maximize returns for a given level of risk. Likewise, given a desired level of expected return, an investor can construct a portfolio with the lowest possible risk.\n",
    "\n",
    "Given the impact COVID-19 had had on the market starting February 24, 2020, we look to see how optimal portfolios made up of the same assets change given different economic conditions. \n",
    "* Pre-COVID Data Frame (pre_df)\n",
    "* Post COVID Data Frame (post_df)"
   ]
  },
  {
   "cell_type": "code",
   "execution_count": 1,
   "metadata": {},
   "outputs": [],
   "source": [
    "import pandas as pd\n",
    "import yfinance as yf\n",
    "from datetime import date\n"
   ]
  },
  {
   "cell_type": "code",
   "execution_count": 2,
   "metadata": {},
   "outputs": [
    {
     "data": {
      "text/plain": [
       "'2020-06-27'"
      ]
     },
     "execution_count": 2,
     "metadata": {},
     "output_type": "execute_result"
    }
   ],
   "source": [
    "current_date = date.today()\n",
    "current_date = current_date.strftime(\"%Y-%m-%d\")\n",
    "current_date # apply as end date below when extracting stock price data"
   ]
  },
  {
   "cell_type": "code",
   "execution_count": 3,
   "metadata": {},
   "outputs": [
    {
     "name": "stdout",
     "output_type": "stream",
     "text": [
      "[*********************100%***********************]  13 of 13 completed\n"
     ]
    }
   ],
   "source": [
    "raw_df = yf.download([\"AMZN\", \"BA\", \"DIS\", \"IBM\", \"KO\", \"MSFT\",\"TSLA\",\"NFLX\",\"FB\",\"CAT\",\"V\",\"CVX\",\"KAR\"], \n",
    "                     start = \"2019-01-01\", end = current_date)"
   ]
  },
  {
   "cell_type": "code",
   "execution_count": 4,
   "metadata": {},
   "outputs": [
    {
     "data": {
      "text/html": [
       "<div>\n",
       "<style scoped>\n",
       "    .dataframe tbody tr th:only-of-type {\n",
       "        vertical-align: middle;\n",
       "    }\n",
       "\n",
       "    .dataframe tbody tr th {\n",
       "        vertical-align: top;\n",
       "    }\n",
       "\n",
       "    .dataframe thead tr th {\n",
       "        text-align: left;\n",
       "    }\n",
       "\n",
       "    .dataframe thead tr:last-of-type th {\n",
       "        text-align: right;\n",
       "    }\n",
       "</style>\n",
       "<table border=\"1\" class=\"dataframe\">\n",
       "  <thead>\n",
       "    <tr>\n",
       "      <th></th>\n",
       "      <th colspan=\"10\" halign=\"left\">Adj Close</th>\n",
       "      <th>...</th>\n",
       "      <th colspan=\"10\" halign=\"left\">Volume</th>\n",
       "    </tr>\n",
       "    <tr>\n",
       "      <th></th>\n",
       "      <th>AMZN</th>\n",
       "      <th>BA</th>\n",
       "      <th>CAT</th>\n",
       "      <th>CVX</th>\n",
       "      <th>DIS</th>\n",
       "      <th>FB</th>\n",
       "      <th>IBM</th>\n",
       "      <th>KAR</th>\n",
       "      <th>KO</th>\n",
       "      <th>MSFT</th>\n",
       "      <th>...</th>\n",
       "      <th>CVX</th>\n",
       "      <th>DIS</th>\n",
       "      <th>FB</th>\n",
       "      <th>IBM</th>\n",
       "      <th>KAR</th>\n",
       "      <th>KO</th>\n",
       "      <th>MSFT</th>\n",
       "      <th>NFLX</th>\n",
       "      <th>TSLA</th>\n",
       "      <th>V</th>\n",
       "    </tr>\n",
       "    <tr>\n",
       "      <th>Date</th>\n",
       "      <th></th>\n",
       "      <th></th>\n",
       "      <th></th>\n",
       "      <th></th>\n",
       "      <th></th>\n",
       "      <th></th>\n",
       "      <th></th>\n",
       "      <th></th>\n",
       "      <th></th>\n",
       "      <th></th>\n",
       "      <th></th>\n",
       "      <th></th>\n",
       "      <th></th>\n",
       "      <th></th>\n",
       "      <th></th>\n",
       "      <th></th>\n",
       "      <th></th>\n",
       "      <th></th>\n",
       "      <th></th>\n",
       "      <th></th>\n",
       "      <th></th>\n",
       "    </tr>\n",
       "  </thead>\n",
       "  <tbody>\n",
       "    <tr>\n",
       "      <th>2019-01-02</th>\n",
       "      <td>1539.130005</td>\n",
       "      <td>314.645142</td>\n",
       "      <td>120.930229</td>\n",
       "      <td>105.139481</td>\n",
       "      <td>107.654343</td>\n",
       "      <td>135.679993</td>\n",
       "      <td>112.546227</td>\n",
       "      <td>16.564972</td>\n",
       "      <td>45.093166</td>\n",
       "      <td>99.375191</td>\n",
       "      <td>...</td>\n",
       "      <td>6384800</td>\n",
       "      <td>9723500</td>\n",
       "      <td>28146200</td>\n",
       "      <td>4239900</td>\n",
       "      <td>4345200</td>\n",
       "      <td>11603700</td>\n",
       "      <td>35329300</td>\n",
       "      <td>11679500</td>\n",
       "      <td>11658600</td>\n",
       "      <td>8788000</td>\n",
       "    </tr>\n",
       "    <tr>\n",
       "      <th>2019-01-03</th>\n",
       "      <td>1500.280029</td>\n",
       "      <td>302.100555</td>\n",
       "      <td>116.270241</td>\n",
       "      <td>103.125793</td>\n",
       "      <td>105.046211</td>\n",
       "      <td>131.740005</td>\n",
       "      <td>110.299408</td>\n",
       "      <td>16.178419</td>\n",
       "      <td>44.814518</td>\n",
       "      <td>95.719376</td>\n",
       "      <td>...</td>\n",
       "      <td>6496200</td>\n",
       "      <td>10594700</td>\n",
       "      <td>22717900</td>\n",
       "      <td>4346700</td>\n",
       "      <td>2806500</td>\n",
       "      <td>14714400</td>\n",
       "      <td>42579100</td>\n",
       "      <td>14969600</td>\n",
       "      <td>6965200</td>\n",
       "      <td>9428300</td>\n",
       "    </tr>\n",
       "    <tr>\n",
       "      <th>2019-01-04</th>\n",
       "      <td>1575.390015</td>\n",
       "      <td>317.822601</td>\n",
       "      <td>122.623909</td>\n",
       "      <td>105.262962</td>\n",
       "      <td>108.286606</td>\n",
       "      <td>137.949997</td>\n",
       "      <td>114.607445</td>\n",
       "      <td>16.635897</td>\n",
       "      <td>45.708115</td>\n",
       "      <td>100.171211</td>\n",
       "      <td>...</td>\n",
       "      <td>7952500</td>\n",
       "      <td>10122800</td>\n",
       "      <td>29002100</td>\n",
       "      <td>4477800</td>\n",
       "      <td>3628500</td>\n",
       "      <td>13013700</td>\n",
       "      <td>44060600</td>\n",
       "      <td>19330100</td>\n",
       "      <td>7394100</td>\n",
       "      <td>11065800</td>\n",
       "    </tr>\n",
       "    <tr>\n",
       "      <th>2019-01-07</th>\n",
       "      <td>1629.510010</td>\n",
       "      <td>318.823395</td>\n",
       "      <td>122.700462</td>\n",
       "      <td>106.630760</td>\n",
       "      <td>109.225136</td>\n",
       "      <td>138.050003</td>\n",
       "      <td>115.418259</td>\n",
       "      <td>16.511774</td>\n",
       "      <td>45.112381</td>\n",
       "      <td>100.298965</td>\n",
       "      <td>...</td>\n",
       "      <td>5712700</td>\n",
       "      <td>6714700</td>\n",
       "      <td>20089300</td>\n",
       "      <td>3751200</td>\n",
       "      <td>2961600</td>\n",
       "      <td>13135500</td>\n",
       "      <td>35656100</td>\n",
       "      <td>18620100</td>\n",
       "      <td>7551200</td>\n",
       "      <td>12928000</td>\n",
       "    </tr>\n",
       "    <tr>\n",
       "      <th>2019-01-08</th>\n",
       "      <td>1656.579956</td>\n",
       "      <td>330.891937</td>\n",
       "      <td>124.174049</td>\n",
       "      <td>106.165329</td>\n",
       "      <td>110.074753</td>\n",
       "      <td>142.529999</td>\n",
       "      <td>117.059410</td>\n",
       "      <td>16.650084</td>\n",
       "      <td>45.621643</td>\n",
       "      <td>101.026199</td>\n",
       "      <td>...</td>\n",
       "      <td>5674900</td>\n",
       "      <td>8730700</td>\n",
       "      <td>26263800</td>\n",
       "      <td>4763600</td>\n",
       "      <td>4179600</td>\n",
       "      <td>15420700</td>\n",
       "      <td>31514400</td>\n",
       "      <td>15359200</td>\n",
       "      <td>7008500</td>\n",
       "      <td>9243000</td>\n",
       "    </tr>\n",
       "  </tbody>\n",
       "</table>\n",
       "<p>5 rows × 78 columns</p>\n",
       "</div>"
      ],
      "text/plain": [
       "              Adj Close                                                  \\\n",
       "                   AMZN          BA         CAT         CVX         DIS   \n",
       "Date                                                                      \n",
       "2019-01-02  1539.130005  314.645142  120.930229  105.139481  107.654343   \n",
       "2019-01-03  1500.280029  302.100555  116.270241  103.125793  105.046211   \n",
       "2019-01-04  1575.390015  317.822601  122.623909  105.262962  108.286606   \n",
       "2019-01-07  1629.510010  318.823395  122.700462  106.630760  109.225136   \n",
       "2019-01-08  1656.579956  330.891937  124.174049  106.165329  110.074753   \n",
       "\n",
       "                                                                      ...  \\\n",
       "                    FB         IBM        KAR         KO        MSFT  ...   \n",
       "Date                                                                  ...   \n",
       "2019-01-02  135.679993  112.546227  16.564972  45.093166   99.375191  ...   \n",
       "2019-01-03  131.740005  110.299408  16.178419  44.814518   95.719376  ...   \n",
       "2019-01-04  137.949997  114.607445  16.635897  45.708115  100.171211  ...   \n",
       "2019-01-07  138.050003  115.418259  16.511774  45.112381  100.298965  ...   \n",
       "2019-01-08  142.529999  117.059410  16.650084  45.621643  101.026199  ...   \n",
       "\n",
       "             Volume                                                            \\\n",
       "                CVX       DIS        FB      IBM      KAR        KO      MSFT   \n",
       "Date                                                                            \n",
       "2019-01-02  6384800   9723500  28146200  4239900  4345200  11603700  35329300   \n",
       "2019-01-03  6496200  10594700  22717900  4346700  2806500  14714400  42579100   \n",
       "2019-01-04  7952500  10122800  29002100  4477800  3628500  13013700  44060600   \n",
       "2019-01-07  5712700   6714700  20089300  3751200  2961600  13135500  35656100   \n",
       "2019-01-08  5674900   8730700  26263800  4763600  4179600  15420700  31514400   \n",
       "\n",
       "                                          \n",
       "                NFLX      TSLA         V  \n",
       "Date                                      \n",
       "2019-01-02  11679500  11658600   8788000  \n",
       "2019-01-03  14969600   6965200   9428300  \n",
       "2019-01-04  19330100   7394100  11065800  \n",
       "2019-01-07  18620100   7551200  12928000  \n",
       "2019-01-08  15359200   7008500   9243000  \n",
       "\n",
       "[5 rows x 78 columns]"
      ]
     },
     "execution_count": 4,
     "metadata": {},
     "output_type": "execute_result"
    }
   ],
   "source": [
    "raw_df.head()"
   ]
  },
  {
   "cell_type": "markdown",
   "metadata": {},
   "source": [
    "Select only adjusted close amounts from extract, which includes gains from dividends "
   ]
  },
  {
   "cell_type": "code",
   "execution_count": 5,
   "metadata": {},
   "outputs": [
    {
     "data": {
      "text/html": [
       "<div>\n",
       "<style scoped>\n",
       "    .dataframe tbody tr th:only-of-type {\n",
       "        vertical-align: middle;\n",
       "    }\n",
       "\n",
       "    .dataframe tbody tr th {\n",
       "        vertical-align: top;\n",
       "    }\n",
       "\n",
       "    .dataframe thead th {\n",
       "        text-align: right;\n",
       "    }\n",
       "</style>\n",
       "<table border=\"1\" class=\"dataframe\">\n",
       "  <thead>\n",
       "    <tr style=\"text-align: right;\">\n",
       "      <th></th>\n",
       "      <th>AMZN</th>\n",
       "      <th>BA</th>\n",
       "      <th>CAT</th>\n",
       "      <th>CVX</th>\n",
       "      <th>DIS</th>\n",
       "      <th>FB</th>\n",
       "      <th>IBM</th>\n",
       "      <th>KAR</th>\n",
       "      <th>KO</th>\n",
       "      <th>MSFT</th>\n",
       "      <th>NFLX</th>\n",
       "      <th>TSLA</th>\n",
       "      <th>V</th>\n",
       "    </tr>\n",
       "    <tr>\n",
       "      <th>Date</th>\n",
       "      <th></th>\n",
       "      <th></th>\n",
       "      <th></th>\n",
       "      <th></th>\n",
       "      <th></th>\n",
       "      <th></th>\n",
       "      <th></th>\n",
       "      <th></th>\n",
       "      <th></th>\n",
       "      <th></th>\n",
       "      <th></th>\n",
       "      <th></th>\n",
       "      <th></th>\n",
       "    </tr>\n",
       "  </thead>\n",
       "  <tbody>\n",
       "    <tr>\n",
       "      <th>2019-01-02</th>\n",
       "      <td>1539.130005</td>\n",
       "      <td>314.645142</td>\n",
       "      <td>120.930229</td>\n",
       "      <td>105.139481</td>\n",
       "      <td>107.654343</td>\n",
       "      <td>135.679993</td>\n",
       "      <td>112.546227</td>\n",
       "      <td>16.564972</td>\n",
       "      <td>45.093166</td>\n",
       "      <td>99.375191</td>\n",
       "      <td>267.660004</td>\n",
       "      <td>310.119995</td>\n",
       "      <td>131.881531</td>\n",
       "    </tr>\n",
       "    <tr>\n",
       "      <th>2019-01-03</th>\n",
       "      <td>1500.280029</td>\n",
       "      <td>302.100555</td>\n",
       "      <td>116.270241</td>\n",
       "      <td>103.125793</td>\n",
       "      <td>105.046211</td>\n",
       "      <td>131.740005</td>\n",
       "      <td>110.299408</td>\n",
       "      <td>16.178419</td>\n",
       "      <td>44.814518</td>\n",
       "      <td>95.719376</td>\n",
       "      <td>271.200012</td>\n",
       "      <td>300.359985</td>\n",
       "      <td>127.128967</td>\n",
       "    </tr>\n",
       "    <tr>\n",
       "      <th>2019-01-04</th>\n",
       "      <td>1575.390015</td>\n",
       "      <td>317.822601</td>\n",
       "      <td>122.623909</td>\n",
       "      <td>105.262962</td>\n",
       "      <td>108.286606</td>\n",
       "      <td>137.949997</td>\n",
       "      <td>114.607445</td>\n",
       "      <td>16.635897</td>\n",
       "      <td>45.708115</td>\n",
       "      <td>100.171211</td>\n",
       "      <td>297.570007</td>\n",
       "      <td>317.690002</td>\n",
       "      <td>132.605835</td>\n",
       "    </tr>\n",
       "    <tr>\n",
       "      <th>2019-01-07</th>\n",
       "      <td>1629.510010</td>\n",
       "      <td>318.823395</td>\n",
       "      <td>122.700462</td>\n",
       "      <td>106.630760</td>\n",
       "      <td>109.225136</td>\n",
       "      <td>138.050003</td>\n",
       "      <td>115.418259</td>\n",
       "      <td>16.511774</td>\n",
       "      <td>45.112381</td>\n",
       "      <td>100.298965</td>\n",
       "      <td>315.339996</td>\n",
       "      <td>334.959991</td>\n",
       "      <td>134.996994</td>\n",
       "    </tr>\n",
       "    <tr>\n",
       "      <th>2019-01-08</th>\n",
       "      <td>1656.579956</td>\n",
       "      <td>330.891937</td>\n",
       "      <td>124.174049</td>\n",
       "      <td>106.165329</td>\n",
       "      <td>110.074753</td>\n",
       "      <td>142.529999</td>\n",
       "      <td>117.059410</td>\n",
       "      <td>16.650084</td>\n",
       "      <td>45.621643</td>\n",
       "      <td>101.026199</td>\n",
       "      <td>320.269989</td>\n",
       "      <td>335.350006</td>\n",
       "      <td>135.731247</td>\n",
       "    </tr>\n",
       "  </tbody>\n",
       "</table>\n",
       "</div>"
      ],
      "text/plain": [
       "                   AMZN          BA         CAT         CVX         DIS  \\\n",
       "Date                                                                      \n",
       "2019-01-02  1539.130005  314.645142  120.930229  105.139481  107.654343   \n",
       "2019-01-03  1500.280029  302.100555  116.270241  103.125793  105.046211   \n",
       "2019-01-04  1575.390015  317.822601  122.623909  105.262962  108.286606   \n",
       "2019-01-07  1629.510010  318.823395  122.700462  106.630760  109.225136   \n",
       "2019-01-08  1656.579956  330.891937  124.174049  106.165329  110.074753   \n",
       "\n",
       "                    FB         IBM        KAR         KO        MSFT  \\\n",
       "Date                                                                   \n",
       "2019-01-02  135.679993  112.546227  16.564972  45.093166   99.375191   \n",
       "2019-01-03  131.740005  110.299408  16.178419  44.814518   95.719376   \n",
       "2019-01-04  137.949997  114.607445  16.635897  45.708115  100.171211   \n",
       "2019-01-07  138.050003  115.418259  16.511774  45.112381  100.298965   \n",
       "2019-01-08  142.529999  117.059410  16.650084  45.621643  101.026199   \n",
       "\n",
       "                  NFLX        TSLA           V  \n",
       "Date                                            \n",
       "2019-01-02  267.660004  310.119995  131.881531  \n",
       "2019-01-03  271.200012  300.359985  127.128967  \n",
       "2019-01-04  297.570007  317.690002  132.605835  \n",
       "2019-01-07  315.339996  334.959991  134.996994  \n",
       "2019-01-08  320.269989  335.350006  135.731247  "
      ]
     },
     "execution_count": 5,
     "metadata": {},
     "output_type": "execute_result"
    }
   ],
   "source": [
    "raw_df = raw_df[\"Adj Close\"].copy()\n",
    "raw_df.head()"
   ]
  },
  {
   "cell_type": "markdown",
   "metadata": {},
   "source": [
    "Calculate the daily percentage change in stock price"
   ]
  },
  {
   "cell_type": "code",
   "execution_count": 6,
   "metadata": {},
   "outputs": [
    {
     "data": {
      "text/html": [
       "<div>\n",
       "<style scoped>\n",
       "    .dataframe tbody tr th:only-of-type {\n",
       "        vertical-align: middle;\n",
       "    }\n",
       "\n",
       "    .dataframe tbody tr th {\n",
       "        vertical-align: top;\n",
       "    }\n",
       "\n",
       "    .dataframe thead th {\n",
       "        text-align: right;\n",
       "    }\n",
       "</style>\n",
       "<table border=\"1\" class=\"dataframe\">\n",
       "  <thead>\n",
       "    <tr style=\"text-align: right;\">\n",
       "      <th></th>\n",
       "      <th>AMZN</th>\n",
       "      <th>BA</th>\n",
       "      <th>CAT</th>\n",
       "      <th>CVX</th>\n",
       "      <th>DIS</th>\n",
       "      <th>FB</th>\n",
       "      <th>IBM</th>\n",
       "      <th>KAR</th>\n",
       "      <th>KO</th>\n",
       "      <th>MSFT</th>\n",
       "      <th>NFLX</th>\n",
       "      <th>TSLA</th>\n",
       "      <th>V</th>\n",
       "    </tr>\n",
       "    <tr>\n",
       "      <th>Date</th>\n",
       "      <th></th>\n",
       "      <th></th>\n",
       "      <th></th>\n",
       "      <th></th>\n",
       "      <th></th>\n",
       "      <th></th>\n",
       "      <th></th>\n",
       "      <th></th>\n",
       "      <th></th>\n",
       "      <th></th>\n",
       "      <th></th>\n",
       "      <th></th>\n",
       "      <th></th>\n",
       "    </tr>\n",
       "  </thead>\n",
       "  <tbody>\n",
       "    <tr>\n",
       "      <th>2019-01-03</th>\n",
       "      <td>-0.025242</td>\n",
       "      <td>-0.039869</td>\n",
       "      <td>-0.038535</td>\n",
       "      <td>-0.019153</td>\n",
       "      <td>-0.024227</td>\n",
       "      <td>-0.029039</td>\n",
       "      <td>-0.019964</td>\n",
       "      <td>-0.023336</td>\n",
       "      <td>-0.006179</td>\n",
       "      <td>-0.036788</td>\n",
       "      <td>0.013226</td>\n",
       "      <td>-0.031472</td>\n",
       "      <td>-0.036037</td>\n",
       "    </tr>\n",
       "    <tr>\n",
       "      <th>2019-01-04</th>\n",
       "      <td>0.050064</td>\n",
       "      <td>0.052042</td>\n",
       "      <td>0.054646</td>\n",
       "      <td>0.020724</td>\n",
       "      <td>0.030847</td>\n",
       "      <td>0.047138</td>\n",
       "      <td>0.039058</td>\n",
       "      <td>0.028277</td>\n",
       "      <td>0.019940</td>\n",
       "      <td>0.046509</td>\n",
       "      <td>0.097234</td>\n",
       "      <td>0.057697</td>\n",
       "      <td>0.043081</td>\n",
       "    </tr>\n",
       "    <tr>\n",
       "      <th>2019-01-07</th>\n",
       "      <td>0.034353</td>\n",
       "      <td>0.003149</td>\n",
       "      <td>0.000624</td>\n",
       "      <td>0.012994</td>\n",
       "      <td>0.008667</td>\n",
       "      <td>0.000725</td>\n",
       "      <td>0.007075</td>\n",
       "      <td>-0.007461</td>\n",
       "      <td>-0.013033</td>\n",
       "      <td>0.001275</td>\n",
       "      <td>0.059717</td>\n",
       "      <td>0.054361</td>\n",
       "      <td>0.018032</td>\n",
       "    </tr>\n",
       "    <tr>\n",
       "      <th>2019-01-08</th>\n",
       "      <td>0.016612</td>\n",
       "      <td>0.037853</td>\n",
       "      <td>0.012010</td>\n",
       "      <td>-0.004365</td>\n",
       "      <td>0.007779</td>\n",
       "      <td>0.032452</td>\n",
       "      <td>0.014219</td>\n",
       "      <td>0.008376</td>\n",
       "      <td>0.011289</td>\n",
       "      <td>0.007251</td>\n",
       "      <td>0.015634</td>\n",
       "      <td>0.001164</td>\n",
       "      <td>0.005439</td>\n",
       "    </tr>\n",
       "    <tr>\n",
       "      <th>2019-01-09</th>\n",
       "      <td>0.001714</td>\n",
       "      <td>0.009691</td>\n",
       "      <td>0.003853</td>\n",
       "      <td>0.013420</td>\n",
       "      <td>0.011219</td>\n",
       "      <td>0.011927</td>\n",
       "      <td>0.007177</td>\n",
       "      <td>0.034505</td>\n",
       "      <td>-0.019166</td>\n",
       "      <td>0.014300</td>\n",
       "      <td>-0.000968</td>\n",
       "      <td>0.009483</td>\n",
       "      <td>0.011769</td>\n",
       "    </tr>\n",
       "  </tbody>\n",
       "</table>\n",
       "</div>"
      ],
      "text/plain": [
       "                AMZN        BA       CAT       CVX       DIS        FB  \\\n",
       "Date                                                                     \n",
       "2019-01-03 -0.025242 -0.039869 -0.038535 -0.019153 -0.024227 -0.029039   \n",
       "2019-01-04  0.050064  0.052042  0.054646  0.020724  0.030847  0.047138   \n",
       "2019-01-07  0.034353  0.003149  0.000624  0.012994  0.008667  0.000725   \n",
       "2019-01-08  0.016612  0.037853  0.012010 -0.004365  0.007779  0.032452   \n",
       "2019-01-09  0.001714  0.009691  0.003853  0.013420  0.011219  0.011927   \n",
       "\n",
       "                 IBM       KAR        KO      MSFT      NFLX      TSLA  \\\n",
       "Date                                                                     \n",
       "2019-01-03 -0.019964 -0.023336 -0.006179 -0.036788  0.013226 -0.031472   \n",
       "2019-01-04  0.039058  0.028277  0.019940  0.046509  0.097234  0.057697   \n",
       "2019-01-07  0.007075 -0.007461 -0.013033  0.001275  0.059717  0.054361   \n",
       "2019-01-08  0.014219  0.008376  0.011289  0.007251  0.015634  0.001164   \n",
       "2019-01-09  0.007177  0.034505 -0.019166  0.014300 -0.000968  0.009483   \n",
       "\n",
       "                   V  \n",
       "Date                  \n",
       "2019-01-03 -0.036037  \n",
       "2019-01-04  0.043081  \n",
       "2019-01-07  0.018032  \n",
       "2019-01-08  0.005439  \n",
       "2019-01-09  0.011769  "
      ]
     },
     "execution_count": 6,
     "metadata": {},
     "output_type": "execute_result"
    }
   ],
   "source": [
    "ret = raw_df.pct_change().dropna()\n",
    "ret.head()"
   ]
  },
  {
   "cell_type": "markdown",
   "metadata": {},
   "source": [
    "Create a function for creating the annualized return and standard deviation"
   ]
  },
  {
   "cell_type": "code",
   "execution_count": 7,
   "metadata": {},
   "outputs": [],
   "source": [
    "def ann_risk_return(returns_df):\n",
    "    summary = returns_df.agg([\"mean\", \"std\"]).T\n",
    "    summary.columns = [\"Return\", \"Risk\"]\n",
    "    summary.Return = summary.Return*252\n",
    "    summary.Risk = summary.Risk * np.sqrt(252)\n",
    "    return summary"
   ]
  },
  {
   "cell_type": "markdown",
   "metadata": {},
   "source": [
    "### Create several random portfolios"
   ]
  },
  {
   "cell_type": "code",
   "execution_count": 8,
   "metadata": {},
   "outputs": [],
   "source": [
    "import pandas as pd\n",
    "import numpy as np\n",
    "import matplotlib.pyplot as plt\n",
    "import seaborn as sns\n",
    "plt.style.use(\"seaborn\")\n",
    "pd.options.display.float_format = '{:.4f}'.format"
   ]
  },
  {
   "cell_type": "code",
   "execution_count": 9,
   "metadata": {},
   "outputs": [
    {
     "data": {
      "text/plain": [
       "13"
      ]
     },
     "execution_count": 9,
     "metadata": {},
     "output_type": "execute_result"
    }
   ],
   "source": [
    "noa = len(ret.columns)\n",
    "noa"
   ]
  },
  {
   "cell_type": "code",
   "execution_count": 10,
   "metadata": {},
   "outputs": [
    {
     "data": {
      "text/plain": [
       "100000"
      ]
     },
     "execution_count": 10,
     "metadata": {},
     "output_type": "execute_result"
    }
   ],
   "source": [
    "nop = 100000\n",
    "nop"
   ]
  },
  {
   "cell_type": "markdown",
   "metadata": {},
   "source": [
    "Create 10,000 random portfolios"
   ]
  },
  {
   "cell_type": "code",
   "execution_count": 11,
   "metadata": {},
   "outputs": [],
   "source": [
    "np.random.seed(123)\n",
    "weight_matrix = np.random.random(noa * nop).reshape(nop, noa)"
   ]
  },
  {
   "cell_type": "markdown",
   "metadata": {},
   "source": [
    "Normalize the weights of each portfolio so they add up to 1"
   ]
  },
  {
   "cell_type": "code",
   "execution_count": 12,
   "metadata": {},
   "outputs": [],
   "source": [
    "weights = weight_matrix / weight_matrix.sum(axis = 1, keepdims= True)"
   ]
  },
  {
   "cell_type": "markdown",
   "metadata": {},
   "source": [
    "### Split data into Pre & Post COVID-19 market drop (2/24/2020)"
   ]
  },
  {
   "cell_type": "code",
   "execution_count": 13,
   "metadata": {},
   "outputs": [
    {
     "name": "stdout",
     "output_type": "stream",
     "text": [
      "(286, 13)\n",
      "(50, 13)\n"
     ]
    }
   ],
   "source": [
    "pre_df = ret.loc[ret.index < '2020-02-24']\n",
    "print(pre_df.shape)\n",
    "post_df = ret.loc[ret.index >= '2020-02-24']\n",
    "print(post_df.shape)"
   ]
  },
  {
   "cell_type": "markdown",
   "metadata": {},
   "source": [
    "# Pre-COVID Market\n",
    "First start by annualizing the risk (standard deviation) and return (average) for each of the stocks in our portfolio"
   ]
  },
  {
   "cell_type": "code",
   "execution_count": 14,
   "metadata": {},
   "outputs": [
    {
     "data": {
      "text/html": [
       "<div>\n",
       "<style scoped>\n",
       "    .dataframe tbody tr th:only-of-type {\n",
       "        vertical-align: middle;\n",
       "    }\n",
       "\n",
       "    .dataframe tbody tr th {\n",
       "        vertical-align: top;\n",
       "    }\n",
       "\n",
       "    .dataframe thead th {\n",
       "        text-align: right;\n",
       "    }\n",
       "</style>\n",
       "<table border=\"1\" class=\"dataframe\">\n",
       "  <thead>\n",
       "    <tr style=\"text-align: right;\">\n",
       "      <th></th>\n",
       "      <th>Return</th>\n",
       "      <th>Risk</th>\n",
       "    </tr>\n",
       "  </thead>\n",
       "  <tbody>\n",
       "    <tr>\n",
       "      <th>AMZN</th>\n",
       "      <td>0.2994</td>\n",
       "      <td>0.2340</td>\n",
       "    </tr>\n",
       "    <tr>\n",
       "      <th>BA</th>\n",
       "      <td>0.0841</td>\n",
       "      <td>0.2871</td>\n",
       "    </tr>\n",
       "    <tr>\n",
       "      <th>CAT</th>\n",
       "      <td>0.1388</td>\n",
       "      <td>0.2664</td>\n",
       "    </tr>\n",
       "    <tr>\n",
       "      <th>CVX</th>\n",
       "      <td>0.0487</td>\n",
       "      <td>0.1837</td>\n",
       "    </tr>\n",
       "    <tr>\n",
       "      <th>DIS</th>\n",
       "      <td>0.2495</td>\n",
       "      <td>0.2235</td>\n",
       "    </tr>\n",
       "  </tbody>\n",
       "</table>\n",
       "</div>"
      ],
      "text/plain": [
       "      Return   Risk\n",
       "AMZN  0.2994 0.2340\n",
       "BA    0.0841 0.2871\n",
       "CAT   0.1388 0.2664\n",
       "CVX   0.0487 0.1837\n",
       "DIS   0.2495 0.2235"
      ]
     },
     "execution_count": 14,
     "metadata": {},
     "output_type": "execute_result"
    }
   ],
   "source": [
    "pre_summary = ann_risk_return(pre_df)\n",
    "pre_summary.head()"
   ]
  },
  {
   "cell_type": "markdown",
   "metadata": {},
   "source": [
    "Calculate the weighted average return for each portfolio and each date using our randomly assigned weights"
   ]
  },
  {
   "cell_type": "code",
   "execution_count": 15,
   "metadata": {},
   "outputs": [
    {
     "data": {
      "text/html": [
       "<div>\n",
       "<style scoped>\n",
       "    .dataframe tbody tr th:only-of-type {\n",
       "        vertical-align: middle;\n",
       "    }\n",
       "\n",
       "    .dataframe tbody tr th {\n",
       "        vertical-align: top;\n",
       "    }\n",
       "\n",
       "    .dataframe thead th {\n",
       "        text-align: right;\n",
       "    }\n",
       "</style>\n",
       "<table border=\"1\" class=\"dataframe\">\n",
       "  <thead>\n",
       "    <tr style=\"text-align: right;\">\n",
       "      <th></th>\n",
       "      <th>0</th>\n",
       "      <th>1</th>\n",
       "      <th>2</th>\n",
       "      <th>3</th>\n",
       "      <th>4</th>\n",
       "      <th>5</th>\n",
       "      <th>6</th>\n",
       "      <th>7</th>\n",
       "      <th>8</th>\n",
       "      <th>9</th>\n",
       "      <th>...</th>\n",
       "      <th>99990</th>\n",
       "      <th>99991</th>\n",
       "      <th>99992</th>\n",
       "      <th>99993</th>\n",
       "      <th>99994</th>\n",
       "      <th>99995</th>\n",
       "      <th>99996</th>\n",
       "      <th>99997</th>\n",
       "      <th>99998</th>\n",
       "      <th>99999</th>\n",
       "    </tr>\n",
       "    <tr>\n",
       "      <th>Date</th>\n",
       "      <th></th>\n",
       "      <th></th>\n",
       "      <th></th>\n",
       "      <th></th>\n",
       "      <th></th>\n",
       "      <th></th>\n",
       "      <th></th>\n",
       "      <th></th>\n",
       "      <th></th>\n",
       "      <th></th>\n",
       "      <th></th>\n",
       "      <th></th>\n",
       "      <th></th>\n",
       "      <th></th>\n",
       "      <th></th>\n",
       "      <th></th>\n",
       "      <th></th>\n",
       "      <th></th>\n",
       "      <th></th>\n",
       "      <th></th>\n",
       "      <th></th>\n",
       "    </tr>\n",
       "  </thead>\n",
       "  <tbody>\n",
       "    <tr>\n",
       "      <th>2019-01-03</th>\n",
       "      <td>-0.0238</td>\n",
       "      <td>-0.0235</td>\n",
       "      <td>-0.0247</td>\n",
       "      <td>-0.0226</td>\n",
       "      <td>-0.0240</td>\n",
       "      <td>-0.0209</td>\n",
       "      <td>-0.0247</td>\n",
       "      <td>-0.0227</td>\n",
       "      <td>-0.0280</td>\n",
       "      <td>-0.0220</td>\n",
       "      <td>...</td>\n",
       "      <td>-0.0250</td>\n",
       "      <td>-0.0251</td>\n",
       "      <td>-0.0223</td>\n",
       "      <td>-0.0230</td>\n",
       "      <td>-0.0261</td>\n",
       "      <td>-0.0267</td>\n",
       "      <td>-0.0185</td>\n",
       "      <td>-0.0237</td>\n",
       "      <td>-0.0275</td>\n",
       "      <td>-0.0226</td>\n",
       "    </tr>\n",
       "    <tr>\n",
       "      <th>2019-01-04</th>\n",
       "      <td>0.0425</td>\n",
       "      <td>0.0467</td>\n",
       "      <td>0.0452</td>\n",
       "      <td>0.0442</td>\n",
       "      <td>0.0461</td>\n",
       "      <td>0.0449</td>\n",
       "      <td>0.0413</td>\n",
       "      <td>0.0471</td>\n",
       "      <td>0.0454</td>\n",
       "      <td>0.0429</td>\n",
       "      <td>...</td>\n",
       "      <td>0.0498</td>\n",
       "      <td>0.0435</td>\n",
       "      <td>0.0479</td>\n",
       "      <td>0.0463</td>\n",
       "      <td>0.0423</td>\n",
       "      <td>0.0446</td>\n",
       "      <td>0.0462</td>\n",
       "      <td>0.0496</td>\n",
       "      <td>0.0446</td>\n",
       "      <td>0.0460</td>\n",
       "    </tr>\n",
       "    <tr>\n",
       "      <th>2019-01-07</th>\n",
       "      <td>0.0148</td>\n",
       "      <td>0.0121</td>\n",
       "      <td>0.0181</td>\n",
       "      <td>0.0108</td>\n",
       "      <td>0.0149</td>\n",
       "      <td>0.0134</td>\n",
       "      <td>0.0110</td>\n",
       "      <td>0.0159</td>\n",
       "      <td>0.0130</td>\n",
       "      <td>0.0138</td>\n",
       "      <td>...</td>\n",
       "      <td>0.0148</td>\n",
       "      <td>0.0171</td>\n",
       "      <td>0.0133</td>\n",
       "      <td>0.0146</td>\n",
       "      <td>0.0108</td>\n",
       "      <td>0.0133</td>\n",
       "      <td>0.0180</td>\n",
       "      <td>0.0163</td>\n",
       "      <td>0.0161</td>\n",
       "      <td>0.0128</td>\n",
       "    </tr>\n",
       "    <tr>\n",
       "      <th>2019-01-08</th>\n",
       "      <td>0.0113</td>\n",
       "      <td>0.0127</td>\n",
       "      <td>0.0101</td>\n",
       "      <td>0.0151</td>\n",
       "      <td>0.0133</td>\n",
       "      <td>0.0139</td>\n",
       "      <td>0.0126</td>\n",
       "      <td>0.0123</td>\n",
       "      <td>0.0121</td>\n",
       "      <td>0.0092</td>\n",
       "      <td>...</td>\n",
       "      <td>0.0133</td>\n",
       "      <td>0.0102</td>\n",
       "      <td>0.0157</td>\n",
       "      <td>0.0144</td>\n",
       "      <td>0.0159</td>\n",
       "      <td>0.0112</td>\n",
       "      <td>0.0091</td>\n",
       "      <td>0.0146</td>\n",
       "      <td>0.0110</td>\n",
       "      <td>0.0130</td>\n",
       "    </tr>\n",
       "    <tr>\n",
       "      <th>2019-01-09</th>\n",
       "      <td>0.0092</td>\n",
       "      <td>0.0073</td>\n",
       "      <td>0.0091</td>\n",
       "      <td>0.0066</td>\n",
       "      <td>0.0078</td>\n",
       "      <td>0.0072</td>\n",
       "      <td>0.0109</td>\n",
       "      <td>0.0066</td>\n",
       "      <td>0.0098</td>\n",
       "      <td>0.0074</td>\n",
       "      <td>...</td>\n",
       "      <td>0.0075</td>\n",
       "      <td>0.0118</td>\n",
       "      <td>0.0086</td>\n",
       "      <td>0.0087</td>\n",
       "      <td>0.0062</td>\n",
       "      <td>0.0078</td>\n",
       "      <td>0.0044</td>\n",
       "      <td>0.0062</td>\n",
       "      <td>0.0080</td>\n",
       "      <td>0.0078</td>\n",
       "    </tr>\n",
       "  </tbody>\n",
       "</table>\n",
       "<p>5 rows × 100000 columns</p>\n",
       "</div>"
      ],
      "text/plain": [
       "             0       1       2       3       4       5       6       7      \\\n",
       "Date                                                                         \n",
       "2019-01-03 -0.0238 -0.0235 -0.0247 -0.0226 -0.0240 -0.0209 -0.0247 -0.0227   \n",
       "2019-01-04  0.0425  0.0467  0.0452  0.0442  0.0461  0.0449  0.0413  0.0471   \n",
       "2019-01-07  0.0148  0.0121  0.0181  0.0108  0.0149  0.0134  0.0110  0.0159   \n",
       "2019-01-08  0.0113  0.0127  0.0101  0.0151  0.0133  0.0139  0.0126  0.0123   \n",
       "2019-01-09  0.0092  0.0073  0.0091  0.0066  0.0078  0.0072  0.0109  0.0066   \n",
       "\n",
       "             8       9      ...   99990   99991   99992   99993   99994  \\\n",
       "Date                        ...                                           \n",
       "2019-01-03 -0.0280 -0.0220  ... -0.0250 -0.0251 -0.0223 -0.0230 -0.0261   \n",
       "2019-01-04  0.0454  0.0429  ...  0.0498  0.0435  0.0479  0.0463  0.0423   \n",
       "2019-01-07  0.0130  0.0138  ...  0.0148  0.0171  0.0133  0.0146  0.0108   \n",
       "2019-01-08  0.0121  0.0092  ...  0.0133  0.0102  0.0157  0.0144  0.0159   \n",
       "2019-01-09  0.0098  0.0074  ...  0.0075  0.0118  0.0086  0.0087  0.0062   \n",
       "\n",
       "             99995   99996   99997   99998   99999  \n",
       "Date                                                \n",
       "2019-01-03 -0.0267 -0.0185 -0.0237 -0.0275 -0.0226  \n",
       "2019-01-04  0.0446  0.0462  0.0496  0.0446  0.0460  \n",
       "2019-01-07  0.0133  0.0180  0.0163  0.0161  0.0128  \n",
       "2019-01-08  0.0112  0.0091  0.0146  0.0110  0.0130  \n",
       "2019-01-09  0.0078  0.0044  0.0062  0.0080  0.0078  \n",
       "\n",
       "[5 rows x 100000 columns]"
      ]
     },
     "execution_count": 15,
     "metadata": {},
     "output_type": "execute_result"
    }
   ],
   "source": [
    "pre_port_ret = pre_df.dot(weights.T)\n",
    "pre_port_ret.head()"
   ]
  },
  {
   "cell_type": "markdown",
   "metadata": {},
   "source": [
    "Annualize the risk and return for each portfolio"
   ]
  },
  {
   "cell_type": "code",
   "execution_count": 16,
   "metadata": {
    "scrolled": true
   },
   "outputs": [
    {
     "data": {
      "text/html": [
       "<div>\n",
       "<style scoped>\n",
       "    .dataframe tbody tr th:only-of-type {\n",
       "        vertical-align: middle;\n",
       "    }\n",
       "\n",
       "    .dataframe tbody tr th {\n",
       "        vertical-align: top;\n",
       "    }\n",
       "\n",
       "    .dataframe thead th {\n",
       "        text-align: right;\n",
       "    }\n",
       "</style>\n",
       "<table border=\"1\" class=\"dataframe\">\n",
       "  <thead>\n",
       "    <tr style=\"text-align: right;\">\n",
       "      <th></th>\n",
       "      <th>Return</th>\n",
       "      <th>Risk</th>\n",
       "    </tr>\n",
       "  </thead>\n",
       "  <tbody>\n",
       "    <tr>\n",
       "      <th>0</th>\n",
       "      <td>0.3709</td>\n",
       "      <td>0.1517</td>\n",
       "    </tr>\n",
       "    <tr>\n",
       "      <th>1</th>\n",
       "      <td>0.3918</td>\n",
       "      <td>0.1597</td>\n",
       "    </tr>\n",
       "    <tr>\n",
       "      <th>2</th>\n",
       "      <td>0.4180</td>\n",
       "      <td>0.1671</td>\n",
       "    </tr>\n",
       "    <tr>\n",
       "      <th>3</th>\n",
       "      <td>0.3259</td>\n",
       "      <td>0.1420</td>\n",
       "    </tr>\n",
       "    <tr>\n",
       "      <th>4</th>\n",
       "      <td>0.3773</td>\n",
       "      <td>0.1533</td>\n",
       "    </tr>\n",
       "  </tbody>\n",
       "</table>\n",
       "</div>"
      ],
      "text/plain": [
       "   Return   Risk\n",
       "0  0.3709 0.1517\n",
       "1  0.3918 0.1597\n",
       "2  0.4180 0.1671\n",
       "3  0.3259 0.1420\n",
       "4  0.3773 0.1533"
      ]
     },
     "execution_count": 16,
     "metadata": {},
     "output_type": "execute_result"
    }
   ],
   "source": [
    "pre_port_summary = ann_risk_return(pre_port_ret)\n",
    "pre_port_summary.head()"
   ]
  },
  {
   "cell_type": "markdown",
   "metadata": {},
   "source": [
    "### Compare risk and return of our 1,000 randomly weighted portfolios and each stock individually "
   ]
  },
  {
   "cell_type": "code",
   "execution_count": 17,
   "metadata": {},
   "outputs": [
    {
     "data": {
      "image/png": "[encoded data removed]",
      "text/plain": [
       "<Figure size 1080x648 with 1 Axes>"
      ]
     },
     "metadata": {
      "needs_background": "light"
     },
     "output_type": "display_data"
    }
   ],
   "source": [
    "plt.figure(figsize = (15, 9))\n",
    "plt.scatter(pre_port_summary.loc[:, \"Risk\"], pre_port_summary.loc[:, \"Return\"],s= 20, color = \"red\")\n",
    "plt.scatter(pre_summary.loc[:, \"Risk\"], pre_summary.loc[:, \"Return\"], s= 50, color = \"black\", marker = \"D\")\n",
    "plt.xlabel(\"ann. Risk(std)\", fontsize = 15)\n",
    "plt.ylabel(\"ann. Return\", fontsize = 15)\n",
    "plt.title(\"Risk/Return\", fontsize = 20)\n",
    "plt.show()"
   ]
  },
  {
   "cell_type": "markdown",
   "metadata": {},
   "source": [
    "### Sharpe Ratio\n",
    "\n",
    "Subtracting the risk-free rate from the mean return allows an investor to better isolate the profits associated with risk-taking activities. Generally, the greater the value of the Sharpe ratio, the more attractive the risk-adjusted return.\n",
    "\\begin{equation}\n",
    "    SharpeRatio = \\frac{PortReturn - RFR}{PortRisk}\n",
    "\\end{equation}"
   ]
  },
  {
   "cell_type": "code",
   "execution_count": 18,
   "metadata": {},
   "outputs": [],
   "source": [
    "risk_free_return = 0.017\n",
    "risk_free_risk = 0"
   ]
  },
  {
   "cell_type": "code",
   "execution_count": 19,
   "metadata": {},
   "outputs": [
    {
     "data": {
      "text/plain": [
       "[0.017, 0]"
      ]
     },
     "execution_count": 19,
     "metadata": {},
     "output_type": "execute_result"
    }
   ],
   "source": [
    "rf = [risk_free_return, risk_free_risk]\n",
    "rf"
   ]
  },
  {
   "cell_type": "markdown",
   "metadata": {},
   "source": [
    " Calculate the sharpe ratio for each one of our stocks, and then also for each one of our portfolios"
   ]
  },
  {
   "cell_type": "code",
   "execution_count": 20,
   "metadata": {},
   "outputs": [
    {
     "data": {
      "text/html": [
       "<div>\n",
       "<style scoped>\n",
       "    .dataframe tbody tr th:only-of-type {\n",
       "        vertical-align: middle;\n",
       "    }\n",
       "\n",
       "    .dataframe tbody tr th {\n",
       "        vertical-align: top;\n",
       "    }\n",
       "\n",
       "    .dataframe thead th {\n",
       "        text-align: right;\n",
       "    }\n",
       "</style>\n",
       "<table border=\"1\" class=\"dataframe\">\n",
       "  <thead>\n",
       "    <tr style=\"text-align: right;\">\n",
       "      <th></th>\n",
       "      <th>Return</th>\n",
       "      <th>Risk</th>\n",
       "      <th>Sharpe</th>\n",
       "    </tr>\n",
       "  </thead>\n",
       "  <tbody>\n",
       "    <tr>\n",
       "      <th>AMZN</th>\n",
       "      <td>0.2994</td>\n",
       "      <td>0.2340</td>\n",
       "      <td>1.2068</td>\n",
       "    </tr>\n",
       "    <tr>\n",
       "      <th>BA</th>\n",
       "      <td>0.0841</td>\n",
       "      <td>0.2871</td>\n",
       "      <td>0.2339</td>\n",
       "    </tr>\n",
       "    <tr>\n",
       "      <th>CAT</th>\n",
       "      <td>0.1388</td>\n",
       "      <td>0.2664</td>\n",
       "      <td>0.4572</td>\n",
       "    </tr>\n",
       "    <tr>\n",
       "      <th>CVX</th>\n",
       "      <td>0.0487</td>\n",
       "      <td>0.1837</td>\n",
       "      <td>0.1725</td>\n",
       "    </tr>\n",
       "    <tr>\n",
       "      <th>DIS</th>\n",
       "      <td>0.2495</td>\n",
       "      <td>0.2235</td>\n",
       "      <td>1.0400</td>\n",
       "    </tr>\n",
       "    <tr>\n",
       "      <th>FB</th>\n",
       "      <td>0.4242</td>\n",
       "      <td>0.2779</td>\n",
       "      <td>1.4653</td>\n",
       "    </tr>\n",
       "    <tr>\n",
       "      <th>IBM</th>\n",
       "      <td>0.2746</td>\n",
       "      <td>0.2121</td>\n",
       "      <td>1.2145</td>\n",
       "    </tr>\n",
       "    <tr>\n",
       "      <th>KAR</th>\n",
       "      <td>0.3027</td>\n",
       "      <td>0.3232</td>\n",
       "      <td>0.8842</td>\n",
       "    </tr>\n",
       "    <tr>\n",
       "      <th>KO</th>\n",
       "      <td>0.2597</td>\n",
       "      <td>0.1654</td>\n",
       "      <td>1.4678</td>\n",
       "    </tr>\n",
       "    <tr>\n",
       "      <th>MSFT</th>\n",
       "      <td>0.5378</td>\n",
       "      <td>0.2043</td>\n",
       "      <td>2.5491</td>\n",
       "    </tr>\n",
       "    <tr>\n",
       "      <th>NFLX</th>\n",
       "      <td>0.3684</td>\n",
       "      <td>0.3449</td>\n",
       "      <td>1.0187</td>\n",
       "    </tr>\n",
       "    <tr>\n",
       "      <th>TSLA</th>\n",
       "      <td>1.1042</td>\n",
       "      <td>0.5733</td>\n",
       "      <td>1.8963</td>\n",
       "    </tr>\n",
       "    <tr>\n",
       "      <th>V</th>\n",
       "      <td>0.4220</td>\n",
       "      <td>0.1832</td>\n",
       "      <td>2.2103</td>\n",
       "    </tr>\n",
       "  </tbody>\n",
       "</table>\n",
       "</div>"
      ],
      "text/plain": [
       "      Return   Risk  Sharpe\n",
       "AMZN  0.2994 0.2340  1.2068\n",
       "BA    0.0841 0.2871  0.2339\n",
       "CAT   0.1388 0.2664  0.4572\n",
       "CVX   0.0487 0.1837  0.1725\n",
       "DIS   0.2495 0.2235  1.0400\n",
       "FB    0.4242 0.2779  1.4653\n",
       "IBM   0.2746 0.2121  1.2145\n",
       "KAR   0.3027 0.3232  0.8842\n",
       "KO    0.2597 0.1654  1.4678\n",
       "MSFT  0.5378 0.2043  2.5491\n",
       "NFLX  0.3684 0.3449  1.0187\n",
       "TSLA  1.1042 0.5733  1.8963\n",
       "V     0.4220 0.1832  2.2103"
      ]
     },
     "execution_count": 20,
     "metadata": {},
     "output_type": "execute_result"
    }
   ],
   "source": [
    "pre_summary[\"Sharpe\"] = (pre_summary[\"Return\"].sub(rf[0]))/pre_summary[\"Risk\"]\n",
    "pre_summary"
   ]
  },
  {
   "cell_type": "code",
   "execution_count": 21,
   "metadata": {},
   "outputs": [
    {
     "data": {
      "text/html": [
       "<div>\n",
       "<style scoped>\n",
       "    .dataframe tbody tr th:only-of-type {\n",
       "        vertical-align: middle;\n",
       "    }\n",
       "\n",
       "    .dataframe tbody tr th {\n",
       "        vertical-align: top;\n",
       "    }\n",
       "\n",
       "    .dataframe thead th {\n",
       "        text-align: right;\n",
       "    }\n",
       "</style>\n",
       "<table border=\"1\" class=\"dataframe\">\n",
       "  <thead>\n",
       "    <tr style=\"text-align: right;\">\n",
       "      <th></th>\n",
       "      <th>Return</th>\n",
       "      <th>Risk</th>\n",
       "      <th>Sharpe</th>\n",
       "    </tr>\n",
       "  </thead>\n",
       "  <tbody>\n",
       "    <tr>\n",
       "      <th>0</th>\n",
       "      <td>0.3709</td>\n",
       "      <td>0.1517</td>\n",
       "      <td>2.3323</td>\n",
       "    </tr>\n",
       "    <tr>\n",
       "      <th>1</th>\n",
       "      <td>0.3918</td>\n",
       "      <td>0.1597</td>\n",
       "      <td>2.3474</td>\n",
       "    </tr>\n",
       "    <tr>\n",
       "      <th>2</th>\n",
       "      <td>0.4180</td>\n",
       "      <td>0.1671</td>\n",
       "      <td>2.3993</td>\n",
       "    </tr>\n",
       "    <tr>\n",
       "      <th>3</th>\n",
       "      <td>0.3259</td>\n",
       "      <td>0.1420</td>\n",
       "      <td>2.1751</td>\n",
       "    </tr>\n",
       "    <tr>\n",
       "      <th>4</th>\n",
       "      <td>0.3773</td>\n",
       "      <td>0.1533</td>\n",
       "      <td>2.3507</td>\n",
       "    </tr>\n",
       "  </tbody>\n",
       "</table>\n",
       "</div>"
      ],
      "text/plain": [
       "   Return   Risk  Sharpe\n",
       "0  0.3709 0.1517  2.3323\n",
       "1  0.3918 0.1597  2.3474\n",
       "2  0.4180 0.1671  2.3993\n",
       "3  0.3259 0.1420  2.1751\n",
       "4  0.3773 0.1533  2.3507"
      ]
     },
     "execution_count": 21,
     "metadata": {},
     "output_type": "execute_result"
    }
   ],
   "source": [
    "pre_port_summary[\"Sharpe\"] = (pre_port_summary[\"Return\"].sub(rf[0]))/pre_port_summary[\"Risk\"]\n",
    "pre_port_summary.head()"
   ]
  },
  {
   "cell_type": "markdown",
   "metadata": {},
   "source": [
    "Identify the pre-COVID-19 portfolio with the optimal balance of risk and return by selecting the portfolio with the max sharpe ratio across our 1,000 randomly weighted portfolios"
   ]
  },
  {
   "cell_type": "code",
   "execution_count": 22,
   "metadata": {},
   "outputs": [
    {
     "data": {
      "text/html": [
       "<div>\n",
       "<style scoped>\n",
       "    .dataframe tbody tr th:only-of-type {\n",
       "        vertical-align: middle;\n",
       "    }\n",
       "\n",
       "    .dataframe tbody tr th {\n",
       "        vertical-align: top;\n",
       "    }\n",
       "\n",
       "    .dataframe thead th {\n",
       "        text-align: right;\n",
       "    }\n",
       "</style>\n",
       "<table border=\"1\" class=\"dataframe\">\n",
       "  <thead>\n",
       "    <tr style=\"text-align: right;\">\n",
       "      <th></th>\n",
       "      <th>Return</th>\n",
       "      <th>Risk</th>\n",
       "      <th>Sharpe</th>\n",
       "    </tr>\n",
       "  </thead>\n",
       "  <tbody>\n",
       "    <tr>\n",
       "      <th>count</th>\n",
       "      <td>100000.0000</td>\n",
       "      <td>100000.0000</td>\n",
       "      <td>100000.0000</td>\n",
       "    </tr>\n",
       "    <tr>\n",
       "      <th>mean</th>\n",
       "      <td>0.3471</td>\n",
       "      <td>0.1555</td>\n",
       "      <td>2.1188</td>\n",
       "    </tr>\n",
       "    <tr>\n",
       "      <th>std</th>\n",
       "      <td>0.0426</td>\n",
       "      <td>0.0107</td>\n",
       "      <td>0.1937</td>\n",
       "    </tr>\n",
       "    <tr>\n",
       "      <th>min</th>\n",
       "      <td>0.2053</td>\n",
       "      <td>0.1247</td>\n",
       "      <td>1.1466</td>\n",
       "    </tr>\n",
       "    <tr>\n",
       "      <th>25%</th>\n",
       "      <td>0.3158</td>\n",
       "      <td>0.1478</td>\n",
       "      <td>1.9942</td>\n",
       "    </tr>\n",
       "    <tr>\n",
       "      <th>50%</th>\n",
       "      <td>0.3470</td>\n",
       "      <td>0.1546</td>\n",
       "      <td>2.1360</td>\n",
       "    </tr>\n",
       "    <tr>\n",
       "      <th>75%</th>\n",
       "      <td>0.3774</td>\n",
       "      <td>0.1621</td>\n",
       "      <td>2.2573</td>\n",
       "    </tr>\n",
       "    <tr>\n",
       "      <th>max</th>\n",
       "      <td>0.5518</td>\n",
       "      <td>0.2243</td>\n",
       "      <td>2.7273</td>\n",
       "    </tr>\n",
       "  </tbody>\n",
       "</table>\n",
       "</div>"
      ],
      "text/plain": [
       "           Return        Risk      Sharpe\n",
       "count 100000.0000 100000.0000 100000.0000\n",
       "mean       0.3471      0.1555      2.1188\n",
       "std        0.0426      0.0107      0.1937\n",
       "min        0.2053      0.1247      1.1466\n",
       "25%        0.3158      0.1478      1.9942\n",
       "50%        0.3470      0.1546      2.1360\n",
       "75%        0.3774      0.1621      2.2573\n",
       "max        0.5518      0.2243      2.7273"
      ]
     },
     "execution_count": 22,
     "metadata": {},
     "output_type": "execute_result"
    }
   ],
   "source": [
    "pre_port_summary.describe()"
   ]
  },
  {
   "cell_type": "code",
   "execution_count": 23,
   "metadata": {
    "scrolled": true
   },
   "outputs": [
    {
     "data": {
      "text/html": [
       "<div>\n",
       "<style scoped>\n",
       "    .dataframe tbody tr th:only-of-type {\n",
       "        vertical-align: middle;\n",
       "    }\n",
       "\n",
       "    .dataframe tbody tr th {\n",
       "        vertical-align: top;\n",
       "    }\n",
       "\n",
       "    .dataframe thead th {\n",
       "        text-align: right;\n",
       "    }\n",
       "</style>\n",
       "<table border=\"1\" class=\"dataframe\">\n",
       "  <thead>\n",
       "    <tr style=\"text-align: right;\">\n",
       "      <th></th>\n",
       "      <th>Return</th>\n",
       "      <th>Risk</th>\n",
       "      <th>Sharpe</th>\n",
       "    </tr>\n",
       "  </thead>\n",
       "  <tbody>\n",
       "    <tr>\n",
       "      <th>count</th>\n",
       "      <td>13.0000</td>\n",
       "      <td>13.0000</td>\n",
       "      <td>13.0000</td>\n",
       "    </tr>\n",
       "    <tr>\n",
       "      <th>mean</th>\n",
       "      <td>0.3472</td>\n",
       "      <td>0.2676</td>\n",
       "      <td>1.2167</td>\n",
       "    </tr>\n",
       "    <tr>\n",
       "      <th>std</th>\n",
       "      <td>0.2661</td>\n",
       "      <td>0.1071</td>\n",
       "      <td>0.7167</td>\n",
       "    </tr>\n",
       "    <tr>\n",
       "      <th>min</th>\n",
       "      <td>0.0487</td>\n",
       "      <td>0.1654</td>\n",
       "      <td>0.1725</td>\n",
       "    </tr>\n",
       "    <tr>\n",
       "      <th>25%</th>\n",
       "      <td>0.2495</td>\n",
       "      <td>0.2043</td>\n",
       "      <td>0.8842</td>\n",
       "    </tr>\n",
       "    <tr>\n",
       "      <th>50%</th>\n",
       "      <td>0.2994</td>\n",
       "      <td>0.2340</td>\n",
       "      <td>1.2068</td>\n",
       "    </tr>\n",
       "    <tr>\n",
       "      <th>75%</th>\n",
       "      <td>0.4220</td>\n",
       "      <td>0.2871</td>\n",
       "      <td>1.4678</td>\n",
       "    </tr>\n",
       "    <tr>\n",
       "      <th>max</th>\n",
       "      <td>1.1042</td>\n",
       "      <td>0.5733</td>\n",
       "      <td>2.5491</td>\n",
       "    </tr>\n",
       "  </tbody>\n",
       "</table>\n",
       "</div>"
      ],
      "text/plain": [
       "       Return    Risk  Sharpe\n",
       "count 13.0000 13.0000 13.0000\n",
       "mean   0.3472  0.2676  1.2167\n",
       "std    0.2661  0.1071  0.7167\n",
       "min    0.0487  0.1654  0.1725\n",
       "25%    0.2495  0.2043  0.8842\n",
       "50%    0.2994  0.2340  1.2068\n",
       "75%    0.4220  0.2871  1.4678\n",
       "max    1.1042  0.5733  2.5491"
      ]
     },
     "execution_count": 23,
     "metadata": {},
     "output_type": "execute_result"
    }
   ],
   "source": [
    "pre_summary.describe()"
   ]
  },
  {
   "cell_type": "markdown",
   "metadata": {},
   "source": [
    "Plot the Sharpe Ratio for each one of our 10,000 randomly weighted portfolios along with each of the individual stocks that make up our portfolios"
   ]
  },
  {
   "cell_type": "code",
   "execution_count": 24,
   "metadata": {},
   "outputs": [
    {
     "data": {
      "image/png": "[encoded data removed]",
      "text/plain": [
       "<Figure size 1080x576 with 2 Axes>"
      ]
     },
     "metadata": {
      "needs_background": "light"
     },
     "output_type": "display_data"
    }
   ],
   "source": [
    "plt.figure(figsize = (15, 8))\n",
    "plt.scatter(pre_port_summary.loc[:, \"Risk\"], pre_port_summary.loc[:, \"Return\"], s= 20, \n",
    "            c = pre_port_summary.loc[:, \"Sharpe\"], cmap = \"coolwarm\", vmin = 1.38, vmax = 2.72, alpha = 0.8)\n",
    "plt.scatter(pre_summary.loc[:, \"Risk\"], pre_summary.loc[:, \"Return\"],s= 50, marker = \"D\",\n",
    "            c = pre_summary.loc[:, \"Sharpe\"], cmap = \"coolwarm\", vmin = 0.1725, vmax = 2.55,)\n",
    "plt.colorbar()\n",
    "plt.xlabel(\"ann. Risk(std)\", fontsize = 15)\n",
    "plt.ylabel(\"ann. Return\", fontsize = 15)\n",
    "plt.title(\"Sharpe Ratio\", fontsize = 20)\n",
    "plt.show()"
   ]
  },
  {
   "cell_type": "markdown",
   "metadata": {},
   "source": [
    "### Identify the max weightings associated with the max sharpe ratio"
   ]
  },
  {
   "cell_type": "code",
   "execution_count": 25,
   "metadata": {},
   "outputs": [
    {
     "data": {
      "text/plain": [
       "array([0.01591975, 0.01136972, 0.01111481, 0.00301418, 0.10085304,\n",
       "       0.09176262, 0.12875938, 0.09677594, 0.13268711, 0.13597422,\n",
       "       0.02175831, 0.13599014, 0.11402078])"
      ]
     },
     "execution_count": 25,
     "metadata": {},
     "output_type": "execute_result"
    }
   ],
   "source": [
    "msrp_pre = pre_port_summary.Sharpe.idxmax()\n",
    "msrp_pre_p = pre_port_summary.iloc[msrp_pre]\n",
    "msrp_pre_w = weights[msrp_pre, :]\n",
    "msrp_pre_w"
   ]
  },
  {
   "cell_type": "code",
   "execution_count": 26,
   "metadata": {},
   "outputs": [
    {
     "data": {
      "text/plain": [
       "AMZN   0.0159\n",
       "BA     0.0114\n",
       "CAT    0.0111\n",
       "CVX    0.0030\n",
       "DIS    0.1009\n",
       "FB     0.0918\n",
       "IBM    0.1288\n",
       "KAR    0.0968\n",
       "KO     0.1327\n",
       "MSFT   0.1360\n",
       "NFLX   0.0218\n",
       "TSLA   0.1360\n",
       "V      0.1140\n",
       "dtype: float64"
      ]
     },
     "execution_count": 26,
     "metadata": {},
     "output_type": "execute_result"
    }
   ],
   "source": [
    "pre_opt_weights = pd.Series(index = pre_df.columns, data = msrp_pre_w)\n",
    "pre_opt_weights"
   ]
  },
  {
   "cell_type": "markdown",
   "metadata": {},
   "source": [
    "Calculate the daily return of our optimized portfolio"
   ]
  },
  {
   "cell_type": "code",
   "execution_count": 27,
   "metadata": {},
   "outputs": [
    {
     "name": "stderr",
     "output_type": "stream",
     "text": [
      "/Users/carsonransford/anaconda3/lib/python3.7/site-packages/ipykernel_launcher.py:1: SettingWithCopyWarning: \n",
      "A value is trying to be set on a copy of a slice from a DataFrame.\n",
      "Try using .loc[row_indexer,col_indexer] = value instead\n",
      "\n",
      "See the caveats in the documentation: http://pandas.pydata.org/pandas-docs/stable/indexing.html#indexing-view-versus-copy\n",
      "  \"\"\"Entry point for launching an IPython kernel.\n"
     ]
    },
    {
     "data": {
      "text/html": [
       "<div>\n",
       "<style scoped>\n",
       "    .dataframe tbody tr th:only-of-type {\n",
       "        vertical-align: middle;\n",
       "    }\n",
       "\n",
       "    .dataframe tbody tr th {\n",
       "        vertical-align: top;\n",
       "    }\n",
       "\n",
       "    .dataframe thead th {\n",
       "        text-align: right;\n",
       "    }\n",
       "</style>\n",
       "<table border=\"1\" class=\"dataframe\">\n",
       "  <thead>\n",
       "    <tr style=\"text-align: right;\">\n",
       "      <th></th>\n",
       "      <th>AMZN</th>\n",
       "      <th>BA</th>\n",
       "      <th>CAT</th>\n",
       "      <th>CVX</th>\n",
       "      <th>DIS</th>\n",
       "      <th>FB</th>\n",
       "      <th>IBM</th>\n",
       "      <th>KAR</th>\n",
       "      <th>KO</th>\n",
       "      <th>MSFT</th>\n",
       "      <th>NFLX</th>\n",
       "      <th>TSLA</th>\n",
       "      <th>V</th>\n",
       "      <th>MP</th>\n",
       "    </tr>\n",
       "    <tr>\n",
       "      <th>Date</th>\n",
       "      <th></th>\n",
       "      <th></th>\n",
       "      <th></th>\n",
       "      <th></th>\n",
       "      <th></th>\n",
       "      <th></th>\n",
       "      <th></th>\n",
       "      <th></th>\n",
       "      <th></th>\n",
       "      <th></th>\n",
       "      <th></th>\n",
       "      <th></th>\n",
       "      <th></th>\n",
       "      <th></th>\n",
       "    </tr>\n",
       "  </thead>\n",
       "  <tbody>\n",
       "    <tr>\n",
       "      <th>2019-01-03</th>\n",
       "      <td>-0.0252</td>\n",
       "      <td>-0.0399</td>\n",
       "      <td>-0.0385</td>\n",
       "      <td>-0.0192</td>\n",
       "      <td>-0.0242</td>\n",
       "      <td>-0.0290</td>\n",
       "      <td>-0.0200</td>\n",
       "      <td>-0.0233</td>\n",
       "      <td>-0.0062</td>\n",
       "      <td>-0.0368</td>\n",
       "      <td>0.0132</td>\n",
       "      <td>-0.0315</td>\n",
       "      <td>-0.0360</td>\n",
       "      <td>-0.0252</td>\n",
       "    </tr>\n",
       "    <tr>\n",
       "      <th>2019-01-04</th>\n",
       "      <td>0.0501</td>\n",
       "      <td>0.0520</td>\n",
       "      <td>0.0546</td>\n",
       "      <td>0.0207</td>\n",
       "      <td>0.0308</td>\n",
       "      <td>0.0471</td>\n",
       "      <td>0.0391</td>\n",
       "      <td>0.0283</td>\n",
       "      <td>0.0199</td>\n",
       "      <td>0.0465</td>\n",
       "      <td>0.0972</td>\n",
       "      <td>0.0577</td>\n",
       "      <td>0.0431</td>\n",
       "      <td>0.0411</td>\n",
       "    </tr>\n",
       "    <tr>\n",
       "      <th>2019-01-07</th>\n",
       "      <td>0.0344</td>\n",
       "      <td>0.0031</td>\n",
       "      <td>0.0006</td>\n",
       "      <td>0.0130</td>\n",
       "      <td>0.0087</td>\n",
       "      <td>0.0007</td>\n",
       "      <td>0.0071</td>\n",
       "      <td>-0.0075</td>\n",
       "      <td>-0.0130</td>\n",
       "      <td>0.0013</td>\n",
       "      <td>0.0597</td>\n",
       "      <td>0.0544</td>\n",
       "      <td>0.0180</td>\n",
       "      <td>0.0110</td>\n",
       "    </tr>\n",
       "    <tr>\n",
       "      <th>2019-01-08</th>\n",
       "      <td>0.0166</td>\n",
       "      <td>0.0379</td>\n",
       "      <td>0.0120</td>\n",
       "      <td>-0.0044</td>\n",
       "      <td>0.0078</td>\n",
       "      <td>0.0325</td>\n",
       "      <td>0.0142</td>\n",
       "      <td>0.0084</td>\n",
       "      <td>0.0113</td>\n",
       "      <td>0.0073</td>\n",
       "      <td>0.0156</td>\n",
       "      <td>0.0012</td>\n",
       "      <td>0.0054</td>\n",
       "      <td>0.0108</td>\n",
       "    </tr>\n",
       "    <tr>\n",
       "      <th>2019-01-09</th>\n",
       "      <td>0.0017</td>\n",
       "      <td>0.0097</td>\n",
       "      <td>0.0039</td>\n",
       "      <td>0.0134</td>\n",
       "      <td>0.0112</td>\n",
       "      <td>0.0119</td>\n",
       "      <td>0.0072</td>\n",
       "      <td>0.0345</td>\n",
       "      <td>-0.0192</td>\n",
       "      <td>0.0143</td>\n",
       "      <td>-0.0010</td>\n",
       "      <td>0.0095</td>\n",
       "      <td>0.0118</td>\n",
       "      <td>0.0087</td>\n",
       "    </tr>\n",
       "  </tbody>\n",
       "</table>\n",
       "</div>"
      ],
      "text/plain": [
       "              AMZN      BA     CAT     CVX     DIS      FB     IBM     KAR  \\\n",
       "Date                                                                         \n",
       "2019-01-03 -0.0252 -0.0399 -0.0385 -0.0192 -0.0242 -0.0290 -0.0200 -0.0233   \n",
       "2019-01-04  0.0501  0.0520  0.0546  0.0207  0.0308  0.0471  0.0391  0.0283   \n",
       "2019-01-07  0.0344  0.0031  0.0006  0.0130  0.0087  0.0007  0.0071 -0.0075   \n",
       "2019-01-08  0.0166  0.0379  0.0120 -0.0044  0.0078  0.0325  0.0142  0.0084   \n",
       "2019-01-09  0.0017  0.0097  0.0039  0.0134  0.0112  0.0119  0.0072  0.0345   \n",
       "\n",
       "                KO    MSFT    NFLX    TSLA       V      MP  \n",
       "Date                                                        \n",
       "2019-01-03 -0.0062 -0.0368  0.0132 -0.0315 -0.0360 -0.0252  \n",
       "2019-01-04  0.0199  0.0465  0.0972  0.0577  0.0431  0.0411  \n",
       "2019-01-07 -0.0130  0.0013  0.0597  0.0544  0.0180  0.0110  \n",
       "2019-01-08  0.0113  0.0073  0.0156  0.0012  0.0054  0.0108  \n",
       "2019-01-09 -0.0192  0.0143 -0.0010  0.0095  0.0118  0.0087  "
      ]
     },
     "execution_count": 27,
     "metadata": {},
     "output_type": "execute_result"
    }
   ],
   "source": [
    "pre_df[\"MP\"] = pre_df.dot(pre_opt_weights)\n",
    "pre_df.head()"
   ]
  },
  {
   "cell_type": "code",
   "execution_count": 28,
   "metadata": {},
   "outputs": [],
   "source": [
    "pre_summary = ann_risk_return(pre_df)"
   ]
  },
  {
   "cell_type": "markdown",
   "metadata": {},
   "source": [
    "Here we can show that our optimized portfolio has a noticeably greater Sharpe Ratio when compared to any one of our individual stocks that make up our portfolio"
   ]
  },
  {
   "cell_type": "code",
   "execution_count": 29,
   "metadata": {
    "scrolled": false
   },
   "outputs": [
    {
     "data": {
      "text/html": [
       "<div>\n",
       "<style scoped>\n",
       "    .dataframe tbody tr th:only-of-type {\n",
       "        vertical-align: middle;\n",
       "    }\n",
       "\n",
       "    .dataframe tbody tr th {\n",
       "        vertical-align: top;\n",
       "    }\n",
       "\n",
       "    .dataframe thead th {\n",
       "        text-align: right;\n",
       "    }\n",
       "</style>\n",
       "<table border=\"1\" class=\"dataframe\">\n",
       "  <thead>\n",
       "    <tr style=\"text-align: right;\">\n",
       "      <th></th>\n",
       "      <th>Return</th>\n",
       "      <th>Risk</th>\n",
       "      <th>Sharpe</th>\n",
       "    </tr>\n",
       "  </thead>\n",
       "  <tbody>\n",
       "    <tr>\n",
       "      <th>AMZN</th>\n",
       "      <td>0.2994</td>\n",
       "      <td>0.2340</td>\n",
       "      <td>1.2068</td>\n",
       "    </tr>\n",
       "    <tr>\n",
       "      <th>BA</th>\n",
       "      <td>0.0841</td>\n",
       "      <td>0.2871</td>\n",
       "      <td>0.2339</td>\n",
       "    </tr>\n",
       "    <tr>\n",
       "      <th>CAT</th>\n",
       "      <td>0.1388</td>\n",
       "      <td>0.2664</td>\n",
       "      <td>0.4572</td>\n",
       "    </tr>\n",
       "    <tr>\n",
       "      <th>CVX</th>\n",
       "      <td>0.0487</td>\n",
       "      <td>0.1837</td>\n",
       "      <td>0.1725</td>\n",
       "    </tr>\n",
       "    <tr>\n",
       "      <th>DIS</th>\n",
       "      <td>0.2495</td>\n",
       "      <td>0.2235</td>\n",
       "      <td>1.0400</td>\n",
       "    </tr>\n",
       "    <tr>\n",
       "      <th>FB</th>\n",
       "      <td>0.4242</td>\n",
       "      <td>0.2779</td>\n",
       "      <td>1.4653</td>\n",
       "    </tr>\n",
       "    <tr>\n",
       "      <th>IBM</th>\n",
       "      <td>0.2746</td>\n",
       "      <td>0.2121</td>\n",
       "      <td>1.2145</td>\n",
       "    </tr>\n",
       "    <tr>\n",
       "      <th>KAR</th>\n",
       "      <td>0.3027</td>\n",
       "      <td>0.3232</td>\n",
       "      <td>0.8842</td>\n",
       "    </tr>\n",
       "    <tr>\n",
       "      <th>KO</th>\n",
       "      <td>0.2597</td>\n",
       "      <td>0.1654</td>\n",
       "      <td>1.4678</td>\n",
       "    </tr>\n",
       "    <tr>\n",
       "      <th>MSFT</th>\n",
       "      <td>0.5378</td>\n",
       "      <td>0.2043</td>\n",
       "      <td>2.5491</td>\n",
       "    </tr>\n",
       "    <tr>\n",
       "      <th>NFLX</th>\n",
       "      <td>0.3684</td>\n",
       "      <td>0.3449</td>\n",
       "      <td>1.0187</td>\n",
       "    </tr>\n",
       "    <tr>\n",
       "      <th>TSLA</th>\n",
       "      <td>1.1042</td>\n",
       "      <td>0.5733</td>\n",
       "      <td>1.8963</td>\n",
       "    </tr>\n",
       "    <tr>\n",
       "      <th>V</th>\n",
       "      <td>0.4220</td>\n",
       "      <td>0.1832</td>\n",
       "      <td>2.2103</td>\n",
       "    </tr>\n",
       "    <tr>\n",
       "      <th>MP</th>\n",
       "      <td>0.4500</td>\n",
       "      <td>0.1588</td>\n",
       "      <td>2.7273</td>\n",
       "    </tr>\n",
       "  </tbody>\n",
       "</table>\n",
       "</div>"
      ],
      "text/plain": [
       "      Return   Risk  Sharpe\n",
       "AMZN  0.2994 0.2340  1.2068\n",
       "BA    0.0841 0.2871  0.2339\n",
       "CAT   0.1388 0.2664  0.4572\n",
       "CVX   0.0487 0.1837  0.1725\n",
       "DIS   0.2495 0.2235  1.0400\n",
       "FB    0.4242 0.2779  1.4653\n",
       "IBM   0.2746 0.2121  1.2145\n",
       "KAR   0.3027 0.3232  0.8842\n",
       "KO    0.2597 0.1654  1.4678\n",
       "MSFT  0.5378 0.2043  2.5491\n",
       "NFLX  0.3684 0.3449  1.0187\n",
       "TSLA  1.1042 0.5733  1.8963\n",
       "V     0.4220 0.1832  2.2103\n",
       "MP    0.4500 0.1588  2.7273"
      ]
     },
     "execution_count": 29,
     "metadata": {},
     "output_type": "execute_result"
    }
   ],
   "source": [
    "pre_summary[\"Sharpe\"] = (pre_summary[\"Return\"].sub(rf[0]))/pre_summary[\"Risk\"]\n",
    "pre_summary.head(20)"
   ]
  },
  {
   "cell_type": "markdown",
   "metadata": {},
   "source": [
    "Visualize the risk and return of our optimized portfolio and our other 9,999 randomly weighted portfolios. We also show the Capital Market Line, which represents portfolios that optimally combine risk and return."
   ]
  },
  {
   "cell_type": "code",
   "execution_count": 30,
   "metadata": {
    "scrolled": false
   },
   "outputs": [
    {
     "data": {
      "image/png": "[encoded data removed]",
      "text/plain": [
       "<Figure size 1440x720 with 2 Axes>"
      ]
     },
     "metadata": {
      "needs_background": "light"
     },
     "output_type": "display_data"
    }
   ],
   "source": [
    "plt.figure(figsize = (20, 10))\n",
    "plt.scatter(pre_port_summary.loc[:, \"Risk\"], pre_port_summary.loc[:, \"Return\"], s= 20, c = pre_port_summary.loc[:, \"Sharpe\"], cmap = \"coolwarm\", vmin = 1.159, vmax = 2.75, alpha = 0.8)\n",
    "plt.colorbar()\n",
    "plt.scatter(pre_summary.loc[\"MP\", \"Risk\"], pre_summary.loc[\"MP\", \"Return\"],s= 300, c = \"black\", marker = \"*\")\n",
    "plt.annotate(\"Max SR Portfolio\", xy=(pre_summary.loc[\"MP\", \"Risk\"]-0.06, pre_summary.loc[\"MP\", \"Return\"]+0.01), size = 20, color = \"black\")\n",
    "plt.scatter(rf[1], rf[0], s = 100, marker = \"o\", c = \"black\")\n",
    "plt.annotate(\"Risk Free Asset\", xy = (rf[1] + 0.01, rf[0] - 0.01), size = 20, color = \"black\")\n",
    "plt.xlabel(\"ann. Risk(std)\", fontsize = 20)\n",
    "plt.ylabel(\"ann. Return\", fontsize = 20)\n",
    "plt.tick_params(axis = \"both\", labelsize = 15)\n",
    "plt.title(\"The Max Sharpe Ratio Portfolio\", fontsize = 25)\n",
    "plt.plot([rf[1],pre_summary.loc[\"MP\", \"Risk\"]], [rf[0],pre_summary.loc[\"MP\", \"Return\"]], c = \"black\")\n",
    "plt.annotate(\"Capital Market Line\", xy = (0.04, 0.16), size = 20, color = \"black\")\n",
    "plt.show()"
   ]
  },
  {
   "cell_type": "markdown",
   "metadata": {},
   "source": [
    "### Show Systematic vs Unsystematic Risk\n",
    "Through the use of our optimized portfolio we can show the amount of risk avoided (Unsystematic Risk) when compared to the inherent risk in the market that we were not able to avoid (Systematic Risk)"
   ]
  },
  {
   "cell_type": "code",
   "execution_count": 31,
   "metadata": {},
   "outputs": [],
   "source": [
    "pre_summary[\"TotalRisk_var\"] = np.power(pre_summary.Risk, 2)"
   ]
  },
  {
   "cell_type": "code",
   "execution_count": 32,
   "metadata": {},
   "outputs": [],
   "source": [
    "COV = pre_df.cov()*252"
   ]
  },
  {
   "cell_type": "markdown",
   "metadata": {},
   "source": [
    "Calculate the systematic risk, which is the risk that could not be avoided even with our optimized portfolio. We calculate this for each stock by subtracting the portfolio risk from the risk of each stock."
   ]
  },
  {
   "cell_type": "code",
   "execution_count": 33,
   "metadata": {},
   "outputs": [],
   "source": [
    "pre_summary[\"SystRisk_var\"] = COV.iloc[:, -1]"
   ]
  },
  {
   "cell_type": "code",
   "execution_count": 34,
   "metadata": {},
   "outputs": [],
   "source": [
    "pre_summary[\"UnsystRisk_var\"] = pre_summary[\"TotalRisk_var\"].sub(pre_summary[\"SystRisk_var\"])"
   ]
  },
  {
   "cell_type": "markdown",
   "metadata": {},
   "source": [
    "Visualize the risk we were able to avoid as the result of our optimized portfolio (Unsystematic), against the market risk we were not able to avoid (Systematic).\n",
    "\n",
    "When doing so we can see that Kar, Tesla, and Netflix had the greatest amount of risk avoided as a result of using the optimized portfolio."
   ]
  },
  {
   "cell_type": "code",
   "execution_count": 35,
   "metadata": {},
   "outputs": [
    {
     "data": {
      "image/png": "[encoded data removed]",
      "text/plain": [
       "<Figure size 1080x576 with 1 Axes>"
      ]
     },
     "metadata": {
      "needs_background": "light"
     },
     "output_type": "display_data"
    }
   ],
   "source": [
    "pre_summary.iloc[:, 4:].plot(kind = \"bar\", stacked = True, figsize= (15, 8), fontsize = 15)\n",
    "plt.legend(fontsize = 15)\n",
    "plt.show()"
   ]
  },
  {
   "cell_type": "markdown",
   "metadata": {},
   "source": [
    "We can also look at which of our stocks had the greatest representation in our optimized portfolio"
   ]
  },
  {
   "cell_type": "code",
   "execution_count": 36,
   "metadata": {},
   "outputs": [
    {
     "name": "stdout",
     "output_type": "stream",
     "text": [
      "AMZN   0.0159\n",
      "BA     0.0114\n",
      "CAT    0.0111\n",
      "CVX    0.0030\n",
      "DIS    0.1009\n",
      "FB     0.0918\n",
      "IBM    0.1288\n",
      "KAR    0.0968\n",
      "KO     0.1327\n",
      "MSFT   0.1360\n",
      "NFLX   0.0218\n",
      "TSLA   0.1360\n",
      "V      0.1140\n",
      "dtype: float64\n"
     ]
    }
   ],
   "source": [
    "print(pre_opt_weights)"
   ]
  },
  {
   "cell_type": "code",
   "execution_count": 37,
   "metadata": {},
   "outputs": [
    {
     "data": {
      "image/png": "[encoded data removed]",
      "text/plain": [
       "<Figure size 1080x576 with 1 Axes>"
      ]
     },
     "metadata": {
      "needs_background": "light"
     },
     "output_type": "display_data"
    }
   ],
   "source": [
    "ax_pre_wt = pre_opt_weights.plot(kind = \"bar\", figsize= (15, 8), fontsize = 15)\n",
    "ax_pre_wt.set_xlabel(\"Stocks\", fontsize=18)\n",
    "ax_pre_wt.set_ylabel(\"Portfolio Weighting\", fontsize=18)\n",
    "plt.show()"
   ]
  },
  {
   "cell_type": "markdown",
   "metadata": {},
   "source": [
    "Take another look at the annualized risk and return of our Market Portfolio (MP), and each of the different types of stocks that make up the portfolio"
   ]
  },
  {
   "cell_type": "code",
   "execution_count": 38,
   "metadata": {},
   "outputs": [
    {
     "data": {
      "text/html": [
       "<div>\n",
       "<style scoped>\n",
       "    .dataframe tbody tr th:only-of-type {\n",
       "        vertical-align: middle;\n",
       "    }\n",
       "\n",
       "    .dataframe tbody tr th {\n",
       "        vertical-align: top;\n",
       "    }\n",
       "\n",
       "    .dataframe thead th {\n",
       "        text-align: right;\n",
       "    }\n",
       "</style>\n",
       "<table border=\"1\" class=\"dataframe\">\n",
       "  <thead>\n",
       "    <tr style=\"text-align: right;\">\n",
       "      <th></th>\n",
       "      <th>Return</th>\n",
       "      <th>Risk</th>\n",
       "      <th>Sharpe</th>\n",
       "      <th>TotalRisk_var</th>\n",
       "      <th>SystRisk_var</th>\n",
       "      <th>UnsystRisk_var</th>\n",
       "    </tr>\n",
       "  </thead>\n",
       "  <tbody>\n",
       "    <tr>\n",
       "      <th>AMZN</th>\n",
       "      <td>0.2994</td>\n",
       "      <td>0.2340</td>\n",
       "      <td>1.2068</td>\n",
       "      <td>0.0548</td>\n",
       "      <td>0.0229</td>\n",
       "      <td>0.0318</td>\n",
       "    </tr>\n",
       "    <tr>\n",
       "      <th>BA</th>\n",
       "      <td>0.0841</td>\n",
       "      <td>0.2871</td>\n",
       "      <td>0.2339</td>\n",
       "      <td>0.0824</td>\n",
       "      <td>0.0152</td>\n",
       "      <td>0.0672</td>\n",
       "    </tr>\n",
       "    <tr>\n",
       "      <th>CAT</th>\n",
       "      <td>0.1388</td>\n",
       "      <td>0.2664</td>\n",
       "      <td>0.4572</td>\n",
       "      <td>0.0710</td>\n",
       "      <td>0.0198</td>\n",
       "      <td>0.0512</td>\n",
       "    </tr>\n",
       "    <tr>\n",
       "      <th>CVX</th>\n",
       "      <td>0.0487</td>\n",
       "      <td>0.1837</td>\n",
       "      <td>0.1725</td>\n",
       "      <td>0.0337</td>\n",
       "      <td>0.0100</td>\n",
       "      <td>0.0237</td>\n",
       "    </tr>\n",
       "    <tr>\n",
       "      <th>DIS</th>\n",
       "      <td>0.2495</td>\n",
       "      <td>0.2235</td>\n",
       "      <td>1.0400</td>\n",
       "      <td>0.0500</td>\n",
       "      <td>0.0171</td>\n",
       "      <td>0.0329</td>\n",
       "    </tr>\n",
       "    <tr>\n",
       "      <th>FB</th>\n",
       "      <td>0.4242</td>\n",
       "      <td>0.2779</td>\n",
       "      <td>1.4653</td>\n",
       "      <td>0.0772</td>\n",
       "      <td>0.0247</td>\n",
       "      <td>0.0525</td>\n",
       "    </tr>\n",
       "    <tr>\n",
       "      <th>IBM</th>\n",
       "      <td>0.2746</td>\n",
       "      <td>0.2121</td>\n",
       "      <td>1.2145</td>\n",
       "      <td>0.0450</td>\n",
       "      <td>0.0170</td>\n",
       "      <td>0.0280</td>\n",
       "    </tr>\n",
       "    <tr>\n",
       "      <th>KAR</th>\n",
       "      <td>0.3027</td>\n",
       "      <td>0.3232</td>\n",
       "      <td>0.8842</td>\n",
       "      <td>0.1044</td>\n",
       "      <td>0.0212</td>\n",
       "      <td>0.0833</td>\n",
       "    </tr>\n",
       "    <tr>\n",
       "      <th>KO</th>\n",
       "      <td>0.2597</td>\n",
       "      <td>0.1654</td>\n",
       "      <td>1.4678</td>\n",
       "      <td>0.0273</td>\n",
       "      <td>0.0085</td>\n",
       "      <td>0.0188</td>\n",
       "    </tr>\n",
       "    <tr>\n",
       "      <th>MSFT</th>\n",
       "      <td>0.5378</td>\n",
       "      <td>0.2043</td>\n",
       "      <td>2.5491</td>\n",
       "      <td>0.0417</td>\n",
       "      <td>0.0252</td>\n",
       "      <td>0.0165</td>\n",
       "    </tr>\n",
       "    <tr>\n",
       "      <th>NFLX</th>\n",
       "      <td>0.3684</td>\n",
       "      <td>0.3449</td>\n",
       "      <td>1.0187</td>\n",
       "      <td>0.1190</td>\n",
       "      <td>0.0273</td>\n",
       "      <td>0.0917</td>\n",
       "    </tr>\n",
       "    <tr>\n",
       "      <th>TSLA</th>\n",
       "      <td>1.1042</td>\n",
       "      <td>0.5733</td>\n",
       "      <td>1.8963</td>\n",
       "      <td>0.3287</td>\n",
       "      <td>0.0641</td>\n",
       "      <td>0.2645</td>\n",
       "    </tr>\n",
       "    <tr>\n",
       "      <th>V</th>\n",
       "      <td>0.4220</td>\n",
       "      <td>0.1832</td>\n",
       "      <td>2.2103</td>\n",
       "      <td>0.0336</td>\n",
       "      <td>0.0203</td>\n",
       "      <td>0.0133</td>\n",
       "    </tr>\n",
       "    <tr>\n",
       "      <th>MP</th>\n",
       "      <td>0.4500</td>\n",
       "      <td>0.1588</td>\n",
       "      <td>2.7273</td>\n",
       "      <td>0.0252</td>\n",
       "      <td>0.0252</td>\n",
       "      <td>0.0000</td>\n",
       "    </tr>\n",
       "  </tbody>\n",
       "</table>\n",
       "</div>"
      ],
      "text/plain": [
       "      Return   Risk  Sharpe  TotalRisk_var  SystRisk_var  UnsystRisk_var\n",
       "AMZN  0.2994 0.2340  1.2068         0.0548        0.0229          0.0318\n",
       "BA    0.0841 0.2871  0.2339         0.0824        0.0152          0.0672\n",
       "CAT   0.1388 0.2664  0.4572         0.0710        0.0198          0.0512\n",
       "CVX   0.0487 0.1837  0.1725         0.0337        0.0100          0.0237\n",
       "DIS   0.2495 0.2235  1.0400         0.0500        0.0171          0.0329\n",
       "FB    0.4242 0.2779  1.4653         0.0772        0.0247          0.0525\n",
       "IBM   0.2746 0.2121  1.2145         0.0450        0.0170          0.0280\n",
       "KAR   0.3027 0.3232  0.8842         0.1044        0.0212          0.0833\n",
       "KO    0.2597 0.1654  1.4678         0.0273        0.0085          0.0188\n",
       "MSFT  0.5378 0.2043  2.5491         0.0417        0.0252          0.0165\n",
       "NFLX  0.3684 0.3449  1.0187         0.1190        0.0273          0.0917\n",
       "TSLA  1.1042 0.5733  1.8963         0.3287        0.0641          0.2645\n",
       "V     0.4220 0.1832  2.2103         0.0336        0.0203          0.0133\n",
       "MP    0.4500 0.1588  2.7273         0.0252        0.0252          0.0000"
      ]
     },
     "execution_count": 38,
     "metadata": {},
     "output_type": "execute_result"
    }
   ],
   "source": [
    "pre_summary.head(20)"
   ]
  },
  {
   "cell_type": "markdown",
   "metadata": {},
   "source": [
    "# Post COVID-19 Data Set"
   ]
  },
  {
   "cell_type": "code",
   "execution_count": 39,
   "metadata": {},
   "outputs": [],
   "source": [
    "post_summary = ann_risk_return(post_df)"
   ]
  },
  {
   "cell_type": "code",
   "execution_count": 40,
   "metadata": {},
   "outputs": [],
   "source": [
    "post_port_ret = post_df.dot(weights.T)"
   ]
  },
  {
   "cell_type": "code",
   "execution_count": 41,
   "metadata": {},
   "outputs": [],
   "source": [
    "post_port_summary = ann_risk_return(post_port_ret)"
   ]
  },
  {
   "cell_type": "code",
   "execution_count": 42,
   "metadata": {},
   "outputs": [
    {
     "data": {
      "image/png": "[encoded data removed]",
      "text/plain": [
       "<Figure size 1080x648 with 1 Axes>"
      ]
     },
     "metadata": {
      "needs_background": "light"
     },
     "output_type": "display_data"
    }
   ],
   "source": [
    "plt.figure(figsize = (15, 9))\n",
    "plt.scatter(post_port_summary.loc[:, \"Risk\"], post_port_summary.loc[:, \"Return\"],s= 20, color = \"red\")\n",
    "plt.scatter(post_summary.loc[:, \"Risk\"], post_summary.loc[:, \"Return\"], s= 50, color = \"black\", marker = \"D\")\n",
    "plt.xlabel(\"ann. Risk(std)\", fontsize = 15)\n",
    "plt.ylabel(\"ann. Return\", fontsize = 15)\n",
    "plt.title(\"Risk/Return\", fontsize = 20)\n",
    "plt.show()"
   ]
  },
  {
   "cell_type": "code",
   "execution_count": 43,
   "metadata": {},
   "outputs": [],
   "source": [
    "post_summary[\"Sharpe\"] = (post_summary[\"Return\"].sub(rf[0]))/post_summary[\"Risk\"]"
   ]
  },
  {
   "cell_type": "code",
   "execution_count": 44,
   "metadata": {},
   "outputs": [],
   "source": [
    "post_port_summary[\"Sharpe\"] = (post_port_summary[\"Return\"].sub(rf[0]))/post_port_summary[\"Risk\"]"
   ]
  },
  {
   "cell_type": "code",
   "execution_count": 45,
   "metadata": {},
   "outputs": [],
   "source": [
    "msrp_post = post_port_summary.Sharpe.idxmax()\n",
    "msrp_post_p = post_port_summary.iloc[msrp_post]\n",
    "msrp_post_w = weights[msrp_post, :]"
   ]
  },
  {
   "cell_type": "code",
   "execution_count": 46,
   "metadata": {},
   "outputs": [],
   "source": [
    "post_opt_weights = pd.Series(index = post_df.columns, data = msrp_post_w)"
   ]
  },
  {
   "cell_type": "code",
   "execution_count": 47,
   "metadata": {},
   "outputs": [
    {
     "name": "stderr",
     "output_type": "stream",
     "text": [
      "/Users/carsonransford/anaconda3/lib/python3.7/site-packages/ipykernel_launcher.py:1: SettingWithCopyWarning: \n",
      "A value is trying to be set on a copy of a slice from a DataFrame.\n",
      "Try using .loc[row_indexer,col_indexer] = value instead\n",
      "\n",
      "See the caveats in the documentation: http://pandas.pydata.org/pandas-docs/stable/indexing.html#indexing-view-versus-copy\n",
      "  \"\"\"Entry point for launching an IPython kernel.\n"
     ]
    }
   ],
   "source": [
    "post_df[\"MP\"] = post_df.dot(post_opt_weights)"
   ]
  },
  {
   "cell_type": "code",
   "execution_count": 48,
   "metadata": {},
   "outputs": [],
   "source": [
    "post_summary = ann_risk_return(post_df)"
   ]
  },
  {
   "cell_type": "code",
   "execution_count": 49,
   "metadata": {},
   "outputs": [
    {
     "data": {
      "text/html": [
       "<div>\n",
       "<style scoped>\n",
       "    .dataframe tbody tr th:only-of-type {\n",
       "        vertical-align: middle;\n",
       "    }\n",
       "\n",
       "    .dataframe tbody tr th {\n",
       "        vertical-align: top;\n",
       "    }\n",
       "\n",
       "    .dataframe thead th {\n",
       "        text-align: right;\n",
       "    }\n",
       "</style>\n",
       "<table border=\"1\" class=\"dataframe\">\n",
       "  <thead>\n",
       "    <tr style=\"text-align: right;\">\n",
       "      <th></th>\n",
       "      <th>Return</th>\n",
       "      <th>Risk</th>\n",
       "      <th>Sharpe</th>\n",
       "    </tr>\n",
       "  </thead>\n",
       "  <tbody>\n",
       "    <tr>\n",
       "      <th>AMZN</th>\n",
       "      <td>0.6610</td>\n",
       "      <td>0.5658</td>\n",
       "      <td>1.1381</td>\n",
       "    </tr>\n",
       "    <tr>\n",
       "      <th>BA</th>\n",
       "      <td>-3.4478</td>\n",
       "      <td>1.5341</td>\n",
       "      <td>-2.2585</td>\n",
       "    </tr>\n",
       "    <tr>\n",
       "      <th>CAT</th>\n",
       "      <td>-0.8848</td>\n",
       "      <td>0.7580</td>\n",
       "      <td>-1.1897</td>\n",
       "    </tr>\n",
       "    <tr>\n",
       "      <th>CVX</th>\n",
       "      <td>-0.2163</td>\n",
       "      <td>1.1540</td>\n",
       "      <td>-0.2022</td>\n",
       "    </tr>\n",
       "    <tr>\n",
       "      <th>DIS</th>\n",
       "      <td>-1.1658</td>\n",
       "      <td>0.8222</td>\n",
       "      <td>-1.4385</td>\n",
       "    </tr>\n",
       "    <tr>\n",
       "      <th>FB</th>\n",
       "      <td>0.1413</td>\n",
       "      <td>0.7250</td>\n",
       "      <td>0.1715</td>\n",
       "    </tr>\n",
       "    <tr>\n",
       "      <th>IBM</th>\n",
       "      <td>-0.7878</td>\n",
       "      <td>0.7258</td>\n",
       "      <td>-1.1089</td>\n",
       "    </tr>\n",
       "    <tr>\n",
       "      <th>KAR</th>\n",
       "      <td>-1.5368</td>\n",
       "      <td>1.1498</td>\n",
       "      <td>-1.3514</td>\n",
       "    </tr>\n",
       "    <tr>\n",
       "      <th>KO</th>\n",
       "      <td>-1.1981</td>\n",
       "      <td>0.6348</td>\n",
       "      <td>-1.9141</td>\n",
       "    </tr>\n",
       "    <tr>\n",
       "      <th>MSFT</th>\n",
       "      <td>0.3296</td>\n",
       "      <td>0.8106</td>\n",
       "      <td>0.3856</td>\n",
       "    </tr>\n",
       "    <tr>\n",
       "      <th>NFLX</th>\n",
       "      <td>0.8192</td>\n",
       "      <td>0.6645</td>\n",
       "      <td>1.2072</td>\n",
       "    </tr>\n",
       "    <tr>\n",
       "      <th>TSLA</th>\n",
       "      <td>-0.0784</td>\n",
       "      <td>1.2475</td>\n",
       "      <td>-0.0765</td>\n",
       "    </tr>\n",
       "    <tr>\n",
       "      <th>V</th>\n",
       "      <td>-0.5200</td>\n",
       "      <td>0.8303</td>\n",
       "      <td>-0.6468</td>\n",
       "    </tr>\n",
       "    <tr>\n",
       "      <th>MP</th>\n",
       "      <td>0.1138</td>\n",
       "      <td>0.6365</td>\n",
       "      <td>0.1521</td>\n",
       "    </tr>\n",
       "  </tbody>\n",
       "</table>\n",
       "</div>"
      ],
      "text/plain": [
       "      Return   Risk  Sharpe\n",
       "AMZN  0.6610 0.5658  1.1381\n",
       "BA   -3.4478 1.5341 -2.2585\n",
       "CAT  -0.8848 0.7580 -1.1897\n",
       "CVX  -0.2163 1.1540 -0.2022\n",
       "DIS  -1.1658 0.8222 -1.4385\n",
       "FB    0.1413 0.7250  0.1715\n",
       "IBM  -0.7878 0.7258 -1.1089\n",
       "KAR  -1.5368 1.1498 -1.3514\n",
       "KO   -1.1981 0.6348 -1.9141\n",
       "MSFT  0.3296 0.8106  0.3856\n",
       "NFLX  0.8192 0.6645  1.2072\n",
       "TSLA -0.0784 1.2475 -0.0765\n",
       "V    -0.5200 0.8303 -0.6468\n",
       "MP    0.1138 0.6365  0.1521"
      ]
     },
     "execution_count": 49,
     "metadata": {},
     "output_type": "execute_result"
    }
   ],
   "source": [
    "post_summary[\"Sharpe\"] = (post_summary[\"Return\"].sub(rf[0]))/post_summary[\"Risk\"]\n",
    "post_summary.head(20)"
   ]
  },
  {
   "cell_type": "code",
   "execution_count": 50,
   "metadata": {},
   "outputs": [],
   "source": [
    "post_summary[\"TotalRisk_var\"] = np.power(post_summary.Risk, 2)"
   ]
  },
  {
   "cell_type": "code",
   "execution_count": 51,
   "metadata": {},
   "outputs": [],
   "source": [
    "COV = post_df.cov()*252"
   ]
  },
  {
   "cell_type": "code",
   "execution_count": 52,
   "metadata": {},
   "outputs": [],
   "source": [
    "post_summary[\"SystRisk_var\"] = COV.iloc[:, -1]"
   ]
  },
  {
   "cell_type": "code",
   "execution_count": 53,
   "metadata": {},
   "outputs": [],
   "source": [
    "post_summary[\"UnsystRisk_var\"] = post_summary[\"TotalRisk_var\"].sub(post_summary[\"SystRisk_var\"])"
   ]
  },
  {
   "cell_type": "code",
   "execution_count": 54,
   "metadata": {},
   "outputs": [
    {
     "data": {
      "image/png": "[encoded data removed]",
      "text/plain": [
       "<Figure size 1080x576 with 1 Axes>"
      ]
     },
     "metadata": {
      "needs_background": "light"
     },
     "output_type": "display_data"
    }
   ],
   "source": [
    "post_summary.iloc[:, 4:].plot(kind = \"bar\", stacked = True, figsize= (15, 8), fontsize = 15)\n",
    "plt.legend(fontsize = 15)\n",
    "plt.show()"
   ]
  },
  {
   "cell_type": "code",
   "execution_count": 55,
   "metadata": {},
   "outputs": [
    {
     "name": "stdout",
     "output_type": "stream",
     "text": [
      "AMZN   0.2030\n",
      "BA     0.0239\n",
      "CAT    0.0314\n",
      "CVX    0.0969\n",
      "DIS    0.0227\n",
      "FB     0.2154\n",
      "IBM    0.0438\n",
      "KAR    0.0179\n",
      "KO     0.0093\n",
      "MSFT   0.0362\n",
      "NFLX   0.2380\n",
      "TSLA   0.0114\n",
      "V      0.0501\n",
      "dtype: float64\n"
     ]
    }
   ],
   "source": [
    "print(post_opt_weights)"
   ]
  },
  {
   "cell_type": "code",
   "execution_count": 56,
   "metadata": {},
   "outputs": [
    {
     "data": {
      "image/png": "[encoded data removed]",
      "text/plain": [
       "<Figure size 1080x576 with 1 Axes>"
      ]
     },
     "metadata": {
      "needs_background": "light"
     },
     "output_type": "display_data"
    }
   ],
   "source": [
    "ax_post_wt = post_opt_weights.plot(kind = \"bar\", figsize= (15, 8), fontsize = 15)\n",
    "ax_post_wt.set_xlabel(\"Stocks\", fontsize=18)\n",
    "ax_post_wt.set_ylabel(\"Portfolio Weighting\", fontsize=18)\n",
    "plt.show()"
   ]
  },
  {
   "cell_type": "code",
   "execution_count": 57,
   "metadata": {},
   "outputs": [
    {
     "data": {
      "text/html": [
       "<div>\n",
       "<style scoped>\n",
       "    .dataframe tbody tr th:only-of-type {\n",
       "        vertical-align: middle;\n",
       "    }\n",
       "\n",
       "    .dataframe tbody tr th {\n",
       "        vertical-align: top;\n",
       "    }\n",
       "\n",
       "    .dataframe thead th {\n",
       "        text-align: right;\n",
       "    }\n",
       "</style>\n",
       "<table border=\"1\" class=\"dataframe\">\n",
       "  <thead>\n",
       "    <tr style=\"text-align: right;\">\n",
       "      <th></th>\n",
       "      <th>Return</th>\n",
       "      <th>Risk</th>\n",
       "      <th>Sharpe</th>\n",
       "      <th>TotalRisk_var</th>\n",
       "      <th>SystRisk_var</th>\n",
       "      <th>UnsystRisk_var</th>\n",
       "    </tr>\n",
       "  </thead>\n",
       "  <tbody>\n",
       "    <tr>\n",
       "      <th>AMZN</th>\n",
       "      <td>0.6610</td>\n",
       "      <td>0.5658</td>\n",
       "      <td>1.1381</td>\n",
       "      <td>0.3202</td>\n",
       "      <td>0.3091</td>\n",
       "      <td>0.0110</td>\n",
       "    </tr>\n",
       "    <tr>\n",
       "      <th>BA</th>\n",
       "      <td>-3.4478</td>\n",
       "      <td>1.5341</td>\n",
       "      <td>-2.2585</td>\n",
       "      <td>2.3536</td>\n",
       "      <td>0.6809</td>\n",
       "      <td>1.6727</td>\n",
       "    </tr>\n",
       "    <tr>\n",
       "      <th>CAT</th>\n",
       "      <td>-0.8848</td>\n",
       "      <td>0.7580</td>\n",
       "      <td>-1.1897</td>\n",
       "      <td>0.5746</td>\n",
       "      <td>0.3797</td>\n",
       "      <td>0.1949</td>\n",
       "    </tr>\n",
       "    <tr>\n",
       "      <th>CVX</th>\n",
       "      <td>-0.2163</td>\n",
       "      <td>1.1540</td>\n",
       "      <td>-0.2022</td>\n",
       "      <td>1.3317</td>\n",
       "      <td>0.5743</td>\n",
       "      <td>0.7574</td>\n",
       "    </tr>\n",
       "    <tr>\n",
       "      <th>DIS</th>\n",
       "      <td>-1.1658</td>\n",
       "      <td>0.8222</td>\n",
       "      <td>-1.4385</td>\n",
       "      <td>0.6761</td>\n",
       "      <td>0.4286</td>\n",
       "      <td>0.2475</td>\n",
       "    </tr>\n",
       "    <tr>\n",
       "      <th>FB</th>\n",
       "      <td>0.1413</td>\n",
       "      <td>0.7250</td>\n",
       "      <td>0.1715</td>\n",
       "      <td>0.5256</td>\n",
       "      <td>0.4313</td>\n",
       "      <td>0.0943</td>\n",
       "    </tr>\n",
       "    <tr>\n",
       "      <th>IBM</th>\n",
       "      <td>-0.7878</td>\n",
       "      <td>0.7258</td>\n",
       "      <td>-1.1089</td>\n",
       "      <td>0.5267</td>\n",
       "      <td>0.4085</td>\n",
       "      <td>0.1182</td>\n",
       "    </tr>\n",
       "    <tr>\n",
       "      <th>KAR</th>\n",
       "      <td>-1.5368</td>\n",
       "      <td>1.1498</td>\n",
       "      <td>-1.3514</td>\n",
       "      <td>1.3220</td>\n",
       "      <td>0.4006</td>\n",
       "      <td>0.9214</td>\n",
       "    </tr>\n",
       "    <tr>\n",
       "      <th>KO</th>\n",
       "      <td>-1.1981</td>\n",
       "      <td>0.6348</td>\n",
       "      <td>-1.9141</td>\n",
       "      <td>0.4030</td>\n",
       "      <td>0.2979</td>\n",
       "      <td>0.1050</td>\n",
       "    </tr>\n",
       "    <tr>\n",
       "      <th>MSFT</th>\n",
       "      <td>0.3296</td>\n",
       "      <td>0.8106</td>\n",
       "      <td>0.3856</td>\n",
       "      <td>0.6571</td>\n",
       "      <td>0.4901</td>\n",
       "      <td>0.1670</td>\n",
       "    </tr>\n",
       "    <tr>\n",
       "      <th>NFLX</th>\n",
       "      <td>0.8192</td>\n",
       "      <td>0.6645</td>\n",
       "      <td>1.2072</td>\n",
       "      <td>0.4416</td>\n",
       "      <td>0.3410</td>\n",
       "      <td>0.1006</td>\n",
       "    </tr>\n",
       "    <tr>\n",
       "      <th>TSLA</th>\n",
       "      <td>-0.0784</td>\n",
       "      <td>1.2475</td>\n",
       "      <td>-0.0765</td>\n",
       "      <td>1.5564</td>\n",
       "      <td>0.5317</td>\n",
       "      <td>1.0247</td>\n",
       "    </tr>\n",
       "    <tr>\n",
       "      <th>V</th>\n",
       "      <td>-0.5200</td>\n",
       "      <td>0.8303</td>\n",
       "      <td>-0.6468</td>\n",
       "      <td>0.6894</td>\n",
       "      <td>0.4603</td>\n",
       "      <td>0.2291</td>\n",
       "    </tr>\n",
       "    <tr>\n",
       "      <th>MP</th>\n",
       "      <td>0.1138</td>\n",
       "      <td>0.6365</td>\n",
       "      <td>0.1521</td>\n",
       "      <td>0.4051</td>\n",
       "      <td>0.4051</td>\n",
       "      <td>0.0000</td>\n",
       "    </tr>\n",
       "  </tbody>\n",
       "</table>\n",
       "</div>"
      ],
      "text/plain": [
       "      Return   Risk  Sharpe  TotalRisk_var  SystRisk_var  UnsystRisk_var\n",
       "AMZN  0.6610 0.5658  1.1381         0.3202        0.3091          0.0110\n",
       "BA   -3.4478 1.5341 -2.2585         2.3536        0.6809          1.6727\n",
       "CAT  -0.8848 0.7580 -1.1897         0.5746        0.3797          0.1949\n",
       "CVX  -0.2163 1.1540 -0.2022         1.3317        0.5743          0.7574\n",
       "DIS  -1.1658 0.8222 -1.4385         0.6761        0.4286          0.2475\n",
       "FB    0.1413 0.7250  0.1715         0.5256        0.4313          0.0943\n",
       "IBM  -0.7878 0.7258 -1.1089         0.5267        0.4085          0.1182\n",
       "KAR  -1.5368 1.1498 -1.3514         1.3220        0.4006          0.9214\n",
       "KO   -1.1981 0.6348 -1.9141         0.4030        0.2979          0.1050\n",
       "MSFT  0.3296 0.8106  0.3856         0.6571        0.4901          0.1670\n",
       "NFLX  0.8192 0.6645  1.2072         0.4416        0.3410          0.1006\n",
       "TSLA -0.0784 1.2475 -0.0765         1.5564        0.5317          1.0247\n",
       "V    -0.5200 0.8303 -0.6468         0.6894        0.4603          0.2291\n",
       "MP    0.1138 0.6365  0.1521         0.4051        0.4051          0.0000"
      ]
     },
     "execution_count": 57,
     "metadata": {},
     "output_type": "execute_result"
    }
   ],
   "source": [
    "post_summary.head(20)"
   ]
  },
  {
   "cell_type": "markdown",
   "metadata": {},
   "source": [
    "# Compare Pre and Post COVID-19 Portfolio Trends"
   ]
  },
  {
   "cell_type": "markdown",
   "metadata": {},
   "source": [
    "### Sharpe Ratio\n",
    "Given the more consistent conditions of the market prior to the COVID collapse on February 24th, we can see that our optimized portfolio reaches an annualized return of 45% with an annualized risk of 0.1588, producing a Sharpe Ratio of 2.7273. We can also see how each of our individual stocks results in a positive Sharpe ratio. \n",
    "\n",
    "However, when re-running the same process on the market from February 24th forward we can see that around half of our same selection of stocks result in a negative Sharpe Ratio, indicating the returns are not worth the risk. For our optimized portfolio we can see that our annualized returns have now dropped to just over 11%, with an annualized risk of 0.6365, up from 0.1588 in our pre-COVID environment. "
   ]
  },
  {
   "cell_type": "code",
   "execution_count": 58,
   "metadata": {},
   "outputs": [
    {
     "data": {
      "text/html": [
       "<div>\n",
       "<style scoped>\n",
       "    .dataframe tbody tr th:only-of-type {\n",
       "        vertical-align: middle;\n",
       "    }\n",
       "\n",
       "    .dataframe tbody tr th {\n",
       "        vertical-align: top;\n",
       "    }\n",
       "\n",
       "    .dataframe thead th {\n",
       "        text-align: right;\n",
       "    }\n",
       "</style>\n",
       "<table border=\"1\" class=\"dataframe\">\n",
       "  <thead>\n",
       "    <tr style=\"text-align: right;\">\n",
       "      <th></th>\n",
       "      <th>Return</th>\n",
       "      <th>Risk</th>\n",
       "      <th>Sharpe</th>\n",
       "      <th>TotalRisk_var</th>\n",
       "      <th>SystRisk_var</th>\n",
       "      <th>UnsystRisk_var</th>\n",
       "    </tr>\n",
       "  </thead>\n",
       "  <tbody>\n",
       "    <tr>\n",
       "      <th>AMZN</th>\n",
       "      <td>0.2994</td>\n",
       "      <td>0.2340</td>\n",
       "      <td>1.2068</td>\n",
       "      <td>0.0548</td>\n",
       "      <td>0.0229</td>\n",
       "      <td>0.0318</td>\n",
       "    </tr>\n",
       "    <tr>\n",
       "      <th>BA</th>\n",
       "      <td>0.0841</td>\n",
       "      <td>0.2871</td>\n",
       "      <td>0.2339</td>\n",
       "      <td>0.0824</td>\n",
       "      <td>0.0152</td>\n",
       "      <td>0.0672</td>\n",
       "    </tr>\n",
       "    <tr>\n",
       "      <th>CAT</th>\n",
       "      <td>0.1388</td>\n",
       "      <td>0.2664</td>\n",
       "      <td>0.4572</td>\n",
       "      <td>0.0710</td>\n",
       "      <td>0.0198</td>\n",
       "      <td>0.0512</td>\n",
       "    </tr>\n",
       "    <tr>\n",
       "      <th>CVX</th>\n",
       "      <td>0.0487</td>\n",
       "      <td>0.1837</td>\n",
       "      <td>0.1725</td>\n",
       "      <td>0.0337</td>\n",
       "      <td>0.0100</td>\n",
       "      <td>0.0237</td>\n",
       "    </tr>\n",
       "    <tr>\n",
       "      <th>DIS</th>\n",
       "      <td>0.2495</td>\n",
       "      <td>0.2235</td>\n",
       "      <td>1.0400</td>\n",
       "      <td>0.0500</td>\n",
       "      <td>0.0171</td>\n",
       "      <td>0.0329</td>\n",
       "    </tr>\n",
       "    <tr>\n",
       "      <th>FB</th>\n",
       "      <td>0.4242</td>\n",
       "      <td>0.2779</td>\n",
       "      <td>1.4653</td>\n",
       "      <td>0.0772</td>\n",
       "      <td>0.0247</td>\n",
       "      <td>0.0525</td>\n",
       "    </tr>\n",
       "    <tr>\n",
       "      <th>IBM</th>\n",
       "      <td>0.2746</td>\n",
       "      <td>0.2121</td>\n",
       "      <td>1.2145</td>\n",
       "      <td>0.0450</td>\n",
       "      <td>0.0170</td>\n",
       "      <td>0.0280</td>\n",
       "    </tr>\n",
       "    <tr>\n",
       "      <th>KAR</th>\n",
       "      <td>0.3027</td>\n",
       "      <td>0.3232</td>\n",
       "      <td>0.8842</td>\n",
       "      <td>0.1044</td>\n",
       "      <td>0.0212</td>\n",
       "      <td>0.0833</td>\n",
       "    </tr>\n",
       "    <tr>\n",
       "      <th>KO</th>\n",
       "      <td>0.2597</td>\n",
       "      <td>0.1654</td>\n",
       "      <td>1.4678</td>\n",
       "      <td>0.0273</td>\n",
       "      <td>0.0085</td>\n",
       "      <td>0.0188</td>\n",
       "    </tr>\n",
       "    <tr>\n",
       "      <th>MSFT</th>\n",
       "      <td>0.5378</td>\n",
       "      <td>0.2043</td>\n",
       "      <td>2.5491</td>\n",
       "      <td>0.0417</td>\n",
       "      <td>0.0252</td>\n",
       "      <td>0.0165</td>\n",
       "    </tr>\n",
       "    <tr>\n",
       "      <th>NFLX</th>\n",
       "      <td>0.3684</td>\n",
       "      <td>0.3449</td>\n",
       "      <td>1.0187</td>\n",
       "      <td>0.1190</td>\n",
       "      <td>0.0273</td>\n",
       "      <td>0.0917</td>\n",
       "    </tr>\n",
       "    <tr>\n",
       "      <th>TSLA</th>\n",
       "      <td>1.1042</td>\n",
       "      <td>0.5733</td>\n",
       "      <td>1.8963</td>\n",
       "      <td>0.3287</td>\n",
       "      <td>0.0641</td>\n",
       "      <td>0.2645</td>\n",
       "    </tr>\n",
       "    <tr>\n",
       "      <th>V</th>\n",
       "      <td>0.4220</td>\n",
       "      <td>0.1832</td>\n",
       "      <td>2.2103</td>\n",
       "      <td>0.0336</td>\n",
       "      <td>0.0203</td>\n",
       "      <td>0.0133</td>\n",
       "    </tr>\n",
       "    <tr>\n",
       "      <th>MP</th>\n",
       "      <td>0.4500</td>\n",
       "      <td>0.1588</td>\n",
       "      <td>2.7273</td>\n",
       "      <td>0.0252</td>\n",
       "      <td>0.0252</td>\n",
       "      <td>0.0000</td>\n",
       "    </tr>\n",
       "  </tbody>\n",
       "</table>\n",
       "</div>"
      ],
      "text/plain": [
       "      Return   Risk  Sharpe  TotalRisk_var  SystRisk_var  UnsystRisk_var\n",
       "AMZN  0.2994 0.2340  1.2068         0.0548        0.0229          0.0318\n",
       "BA    0.0841 0.2871  0.2339         0.0824        0.0152          0.0672\n",
       "CAT   0.1388 0.2664  0.4572         0.0710        0.0198          0.0512\n",
       "CVX   0.0487 0.1837  0.1725         0.0337        0.0100          0.0237\n",
       "DIS   0.2495 0.2235  1.0400         0.0500        0.0171          0.0329\n",
       "FB    0.4242 0.2779  1.4653         0.0772        0.0247          0.0525\n",
       "IBM   0.2746 0.2121  1.2145         0.0450        0.0170          0.0280\n",
       "KAR   0.3027 0.3232  0.8842         0.1044        0.0212          0.0833\n",
       "KO    0.2597 0.1654  1.4678         0.0273        0.0085          0.0188\n",
       "MSFT  0.5378 0.2043  2.5491         0.0417        0.0252          0.0165\n",
       "NFLX  0.3684 0.3449  1.0187         0.1190        0.0273          0.0917\n",
       "TSLA  1.1042 0.5733  1.8963         0.3287        0.0641          0.2645\n",
       "V     0.4220 0.1832  2.2103         0.0336        0.0203          0.0133\n",
       "MP    0.4500 0.1588  2.7273         0.0252        0.0252          0.0000"
      ]
     },
     "execution_count": 58,
     "metadata": {},
     "output_type": "execute_result"
    }
   ],
   "source": [
    "pre_summary.head(20)"
   ]
  },
  {
   "cell_type": "code",
   "execution_count": 59,
   "metadata": {},
   "outputs": [
    {
     "data": {
      "text/html": [
       "<div>\n",
       "<style scoped>\n",
       "    .dataframe tbody tr th:only-of-type {\n",
       "        vertical-align: middle;\n",
       "    }\n",
       "\n",
       "    .dataframe tbody tr th {\n",
       "        vertical-align: top;\n",
       "    }\n",
       "\n",
       "    .dataframe thead th {\n",
       "        text-align: right;\n",
       "    }\n",
       "</style>\n",
       "<table border=\"1\" class=\"dataframe\">\n",
       "  <thead>\n",
       "    <tr style=\"text-align: right;\">\n",
       "      <th></th>\n",
       "      <th>Return</th>\n",
       "      <th>Risk</th>\n",
       "      <th>Sharpe</th>\n",
       "      <th>TotalRisk_var</th>\n",
       "      <th>SystRisk_var</th>\n",
       "      <th>UnsystRisk_var</th>\n",
       "    </tr>\n",
       "  </thead>\n",
       "  <tbody>\n",
       "    <tr>\n",
       "      <th>AMZN</th>\n",
       "      <td>0.6610</td>\n",
       "      <td>0.5658</td>\n",
       "      <td>1.1381</td>\n",
       "      <td>0.3202</td>\n",
       "      <td>0.3091</td>\n",
       "      <td>0.0110</td>\n",
       "    </tr>\n",
       "    <tr>\n",
       "      <th>BA</th>\n",
       "      <td>-3.4478</td>\n",
       "      <td>1.5341</td>\n",
       "      <td>-2.2585</td>\n",
       "      <td>2.3536</td>\n",
       "      <td>0.6809</td>\n",
       "      <td>1.6727</td>\n",
       "    </tr>\n",
       "    <tr>\n",
       "      <th>CAT</th>\n",
       "      <td>-0.8848</td>\n",
       "      <td>0.7580</td>\n",
       "      <td>-1.1897</td>\n",
       "      <td>0.5746</td>\n",
       "      <td>0.3797</td>\n",
       "      <td>0.1949</td>\n",
       "    </tr>\n",
       "    <tr>\n",
       "      <th>CVX</th>\n",
       "      <td>-0.2163</td>\n",
       "      <td>1.1540</td>\n",
       "      <td>-0.2022</td>\n",
       "      <td>1.3317</td>\n",
       "      <td>0.5743</td>\n",
       "      <td>0.7574</td>\n",
       "    </tr>\n",
       "    <tr>\n",
       "      <th>DIS</th>\n",
       "      <td>-1.1658</td>\n",
       "      <td>0.8222</td>\n",
       "      <td>-1.4385</td>\n",
       "      <td>0.6761</td>\n",
       "      <td>0.4286</td>\n",
       "      <td>0.2475</td>\n",
       "    </tr>\n",
       "    <tr>\n",
       "      <th>FB</th>\n",
       "      <td>0.1413</td>\n",
       "      <td>0.7250</td>\n",
       "      <td>0.1715</td>\n",
       "      <td>0.5256</td>\n",
       "      <td>0.4313</td>\n",
       "      <td>0.0943</td>\n",
       "    </tr>\n",
       "    <tr>\n",
       "      <th>IBM</th>\n",
       "      <td>-0.7878</td>\n",
       "      <td>0.7258</td>\n",
       "      <td>-1.1089</td>\n",
       "      <td>0.5267</td>\n",
       "      <td>0.4085</td>\n",
       "      <td>0.1182</td>\n",
       "    </tr>\n",
       "    <tr>\n",
       "      <th>KAR</th>\n",
       "      <td>-1.5368</td>\n",
       "      <td>1.1498</td>\n",
       "      <td>-1.3514</td>\n",
       "      <td>1.3220</td>\n",
       "      <td>0.4006</td>\n",
       "      <td>0.9214</td>\n",
       "    </tr>\n",
       "    <tr>\n",
       "      <th>KO</th>\n",
       "      <td>-1.1981</td>\n",
       "      <td>0.6348</td>\n",
       "      <td>-1.9141</td>\n",
       "      <td>0.4030</td>\n",
       "      <td>0.2979</td>\n",
       "      <td>0.1050</td>\n",
       "    </tr>\n",
       "    <tr>\n",
       "      <th>MSFT</th>\n",
       "      <td>0.3296</td>\n",
       "      <td>0.8106</td>\n",
       "      <td>0.3856</td>\n",
       "      <td>0.6571</td>\n",
       "      <td>0.4901</td>\n",
       "      <td>0.1670</td>\n",
       "    </tr>\n",
       "    <tr>\n",
       "      <th>NFLX</th>\n",
       "      <td>0.8192</td>\n",
       "      <td>0.6645</td>\n",
       "      <td>1.2072</td>\n",
       "      <td>0.4416</td>\n",
       "      <td>0.3410</td>\n",
       "      <td>0.1006</td>\n",
       "    </tr>\n",
       "    <tr>\n",
       "      <th>TSLA</th>\n",
       "      <td>-0.0784</td>\n",
       "      <td>1.2475</td>\n",
       "      <td>-0.0765</td>\n",
       "      <td>1.5564</td>\n",
       "      <td>0.5317</td>\n",
       "      <td>1.0247</td>\n",
       "    </tr>\n",
       "    <tr>\n",
       "      <th>V</th>\n",
       "      <td>-0.5200</td>\n",
       "      <td>0.8303</td>\n",
       "      <td>-0.6468</td>\n",
       "      <td>0.6894</td>\n",
       "      <td>0.4603</td>\n",
       "      <td>0.2291</td>\n",
       "    </tr>\n",
       "    <tr>\n",
       "      <th>MP</th>\n",
       "      <td>0.1138</td>\n",
       "      <td>0.6365</td>\n",
       "      <td>0.1521</td>\n",
       "      <td>0.4051</td>\n",
       "      <td>0.4051</td>\n",
       "      <td>0.0000</td>\n",
       "    </tr>\n",
       "  </tbody>\n",
       "</table>\n",
       "</div>"
      ],
      "text/plain": [
       "      Return   Risk  Sharpe  TotalRisk_var  SystRisk_var  UnsystRisk_var\n",
       "AMZN  0.6610 0.5658  1.1381         0.3202        0.3091          0.0110\n",
       "BA   -3.4478 1.5341 -2.2585         2.3536        0.6809          1.6727\n",
       "CAT  -0.8848 0.7580 -1.1897         0.5746        0.3797          0.1949\n",
       "CVX  -0.2163 1.1540 -0.2022         1.3317        0.5743          0.7574\n",
       "DIS  -1.1658 0.8222 -1.4385         0.6761        0.4286          0.2475\n",
       "FB    0.1413 0.7250  0.1715         0.5256        0.4313          0.0943\n",
       "IBM  -0.7878 0.7258 -1.1089         0.5267        0.4085          0.1182\n",
       "KAR  -1.5368 1.1498 -1.3514         1.3220        0.4006          0.9214\n",
       "KO   -1.1981 0.6348 -1.9141         0.4030        0.2979          0.1050\n",
       "MSFT  0.3296 0.8106  0.3856         0.6571        0.4901          0.1670\n",
       "NFLX  0.8192 0.6645  1.2072         0.4416        0.3410          0.1006\n",
       "TSLA -0.0784 1.2475 -0.0765         1.5564        0.5317          1.0247\n",
       "V    -0.5200 0.8303 -0.6468         0.6894        0.4603          0.2291\n",
       "MP    0.1138 0.6365  0.1521         0.4051        0.4051          0.0000"
      ]
     },
     "execution_count": 59,
     "metadata": {},
     "output_type": "execute_result"
    }
   ],
   "source": [
    "post_summary.head(20)"
   ]
  },
  {
   "cell_type": "markdown",
   "metadata": {},
   "source": [
    "Stcosk such as Tesla, Netflix, and Kar Auto Auction appeared to have the greatest benefit in reducing risk through the use of our optimized portfolio, this narrative changes once we look at the post-COVID environment. With the sharp reduction in travel companies in the transportation, oil & gas, and auto manufacturing and resale were often impacted the most. We can see that as in our post-COVID environment stocks such as Boeing, Chevron, Kar Auto Auction, and Tesla benefited the most in terms of reducing risk through the use of our optimized portfolio. "
   ]
  },
  {
   "cell_type": "code",
   "execution_count": 60,
   "metadata": {},
   "outputs": [
    {
     "data": {
      "image/png": "[encoded data removed]",
      "text/plain": [
       "<Figure size 1080x576 with 1 Axes>"
      ]
     },
     "metadata": {
      "needs_background": "light"
     },
     "output_type": "display_data"
    }
   ],
   "source": [
    "pre_summary.iloc[:, 4:].plot(kind = \"bar\", stacked = True, figsize= (15, 8), fontsize = 15)\n",
    "plt.legend(fontsize = 15)\n",
    "plt.show()"
   ]
  },
  {
   "cell_type": "code",
   "execution_count": 61,
   "metadata": {},
   "outputs": [
    {
     "data": {
      "image/png": "[encoded data removed]",
      "text/plain": [
       "<Figure size 1080x576 with 1 Axes>"
      ]
     },
     "metadata": {
      "needs_background": "light"
     },
     "output_type": "display_data"
    }
   ],
   "source": [
    "post_summary.iloc[:, 4:].plot(kind = \"bar\", stacked = True, figsize= (15, 8), fontsize = 15)\n",
    "plt.legend(fontsize = 15)\n",
    "plt.show()"
   ]
  },
  {
   "cell_type": "markdown",
   "metadata": {},
   "source": [
    "While it may seem like that the each stocks weighting within the portfolio should have a linear relationship to the Sharpe Ratio for each relationship, that is not exactly accurate. The Modern Portfolio Theory actually takes the entire portfolio of stocks into consideration to help find the optimal balance of risk reduction and returns. \n",
    "\n",
    "So while two stocks may produce a high Sharpe Ratio, they may also have a high positive covariance, indicating that the stocks often react to the market in a similar manner. Weighting both of these stocks heavily with in our portfolio will actually increase risk as we should be looking for stocks that help offset the risk of one another, which is often referred to as the Diversification Effect. An example of this has been created further below."
   ]
  },
  {
   "cell_type": "code",
   "execution_count": 62,
   "metadata": {},
   "outputs": [
    {
     "data": {
      "image/png": "[encoded data removed]",
      "text/plain": [
       "<Figure size 1080x576 with 1 Axes>"
      ]
     },
     "metadata": {
      "needs_background": "light"
     },
     "output_type": "display_data"
    }
   ],
   "source": [
    "ax_post_wt = post_opt_weights.plot(kind = \"bar\", figsize= (15, 8), fontsize = 15)\n",
    "ax_post_wt.set_xlabel(\"Stocks\", fontsize=18)\n",
    "ax_post_wt.set_ylabel(\"Portfolio Weighting\", fontsize=18)\n",
    "plt.show()"
   ]
  },
  {
   "cell_type": "code",
   "execution_count": 63,
   "metadata": {},
   "outputs": [
    {
     "data": {
      "image/png": "[encoded data removed]",
      "text/plain": [
       "<Figure size 1080x576 with 1 Axes>"
      ]
     },
     "metadata": {
      "needs_background": "light"
     },
     "output_type": "display_data"
    }
   ],
   "source": [
    "ax_pre_wt = pre_opt_weights.plot(kind = \"bar\", figsize= (15, 8), fontsize = 15)\n",
    "ax_pre_wt.set_xlabel(\"Stocks\", fontsize=18)\n",
    "ax_pre_wt.set_ylabel(\"Portfolio Weighting\", fontsize=18)\n",
    "plt.show()"
   ]
  },
  {
   "cell_type": "markdown",
   "metadata": {},
   "source": [
    "### Diversification Effect\n",
    "Here we demonstrate how the appropriate selection of stocks can help reduce the risk of our overall portfolio by identifying those that react differently to the market."
   ]
  },
  {
   "cell_type": "code",
   "execution_count": 64,
   "metadata": {
    "scrolled": true
   },
   "outputs": [
    {
     "data": {
      "text/html": [
       "<div>\n",
       "<style scoped>\n",
       "    .dataframe tbody tr th:only-of-type {\n",
       "        vertical-align: middle;\n",
       "    }\n",
       "\n",
       "    .dataframe tbody tr th {\n",
       "        vertical-align: top;\n",
       "    }\n",
       "\n",
       "    .dataframe thead th {\n",
       "        text-align: right;\n",
       "    }\n",
       "</style>\n",
       "<table border=\"1\" class=\"dataframe\">\n",
       "  <thead>\n",
       "    <tr style=\"text-align: right;\">\n",
       "      <th></th>\n",
       "      <th>A</th>\n",
       "      <th>B</th>\n",
       "      <th>C</th>\n",
       "    </tr>\n",
       "  </thead>\n",
       "  <tbody>\n",
       "    <tr>\n",
       "      <th>1</th>\n",
       "      <td>0.0500</td>\n",
       "      <td>0.0500</td>\n",
       "      <td>0.1000</td>\n",
       "    </tr>\n",
       "    <tr>\n",
       "      <th>2</th>\n",
       "      <td>0.1000</td>\n",
       "      <td>0.0000</td>\n",
       "      <td>0.2000</td>\n",
       "    </tr>\n",
       "    <tr>\n",
       "      <th>3</th>\n",
       "      <td>-0.0200</td>\n",
       "      <td>0.1200</td>\n",
       "      <td>-0.0400</td>\n",
       "    </tr>\n",
       "    <tr>\n",
       "      <th>4</th>\n",
       "      <td>0.0400</td>\n",
       "      <td>0.0600</td>\n",
       "      <td>0.0800</td>\n",
       "    </tr>\n",
       "    <tr>\n",
       "      <th>5</th>\n",
       "      <td>0.0600</td>\n",
       "      <td>0.0400</td>\n",
       "      <td>0.1200</td>\n",
       "    </tr>\n",
       "    <tr>\n",
       "      <th>6</th>\n",
       "      <td>-0.0400</td>\n",
       "      <td>0.1400</td>\n",
       "      <td>-0.0800</td>\n",
       "    </tr>\n",
       "    <tr>\n",
       "      <th>7</th>\n",
       "      <td>0.0300</td>\n",
       "      <td>0.0700</td>\n",
       "      <td>0.0600</td>\n",
       "    </tr>\n",
       "    <tr>\n",
       "      <th>8</th>\n",
       "      <td>0.1500</td>\n",
       "      <td>-0.0500</td>\n",
       "      <td>0.3000</td>\n",
       "    </tr>\n",
       "    <tr>\n",
       "      <th>9</th>\n",
       "      <td>0.0600</td>\n",
       "      <td>0.0400</td>\n",
       "      <td>0.1200</td>\n",
       "    </tr>\n",
       "    <tr>\n",
       "      <th>10</th>\n",
       "      <td>0.0200</td>\n",
       "      <td>0.0800</td>\n",
       "      <td>0.0400</td>\n",
       "    </tr>\n",
       "  </tbody>\n",
       "</table>\n",
       "</div>"
      ],
      "text/plain": [
       "         A       B       C\n",
       "1   0.0500  0.0500  0.1000\n",
       "2   0.1000  0.0000  0.2000\n",
       "3  -0.0200  0.1200 -0.0400\n",
       "4   0.0400  0.0600  0.0800\n",
       "5   0.0600  0.0400  0.1200\n",
       "6  -0.0400  0.1400 -0.0800\n",
       "7   0.0300  0.0700  0.0600\n",
       "8   0.1500 -0.0500  0.3000\n",
       "9   0.0600  0.0400  0.1200\n",
       "10  0.0200  0.0800  0.0400"
      ]
     },
     "execution_count": 64,
     "metadata": {},
     "output_type": "execute_result"
    }
   ],
   "source": [
    "three_stocks = pd.DataFrame(data = {\"A\": [0.05, 0.1, -0.02, 0.04, 0.06, -0.04, 0.03, 0.15, 0.06, 0.02], \n",
    "                                  \"B\": [0.05, 0.0, 0.12, 0.06, 0.04, 0.14, 0.07, -0.05, 0.04, 0.08], \n",
    "                                  \"C\": [0.1, 0.2, -0.04, 0.08, 0.12, -0.08, 0.06, 0.3, 0.12, 0.04]},\n",
    "            index = range(1, 11))\n",
    "three_stocks"
   ]
  },
  {
   "cell_type": "markdown",
   "metadata": {},
   "source": [
    "Here we can see how stocks A and B have a strong negative correlation, indicating that when one stock increases the other typically decreases."
   ]
  },
  {
   "cell_type": "code",
   "execution_count": 65,
   "metadata": {},
   "outputs": [
    {
     "data": {
      "image/png": "[encoded data removed]",
      "text/plain": [
       "<Figure size 432x288 with 1 Axes>"
      ]
     },
     "metadata": {
      "needs_background": "light"
     },
     "output_type": "display_data"
    }
   ],
   "source": [
    "three_stocks.loc[:, [\"A\", \"B\"]].plot()\n",
    "plt.show()"
   ]
  },
  {
   "cell_type": "code",
   "execution_count": 66,
   "metadata": {},
   "outputs": [],
   "source": [
    "three_stocks[\"AB\"] = three_stocks[[\"A\", \"B\"]].mean(axis = 1)"
   ]
  },
  {
   "cell_type": "code",
   "execution_count": 67,
   "metadata": {},
   "outputs": [],
   "source": [
    "three_stocks[\"AC\"] = three_stocks[[\"A\", \"C\"]].mean(axis = 1)"
   ]
  },
  {
   "cell_type": "markdown",
   "metadata": {},
   "source": [
    "By diversifying with stocks A & B, which have a perfectly negative correlation, we can create a perfectly consistent return of 5%"
   ]
  },
  {
   "cell_type": "code",
   "execution_count": 68,
   "metadata": {},
   "outputs": [
    {
     "data": {
      "image/png": "[encoded data removed]",
      "text/plain": [
       "<Figure size 432x288 with 1 Axes>"
      ]
     },
     "metadata": {
      "needs_background": "light"
     },
     "output_type": "display_data"
    }
   ],
   "source": [
    "three_stocks.loc[:, [\"AB\", \"AC\"]].plot()\n",
    "plt.show()"
   ]
  },
  {
   "cell_type": "code",
   "execution_count": 123,
   "metadata": {},
   "outputs": [],
   "source": [
    "my_vars = []\n",
    "for var in dir():\n",
    "    if not var.startswith('_'):\n",
    "        my_vars.append(var)\n",
    "        \n",
    "for x in my_vars:\n",
    "    del globals()[x]"
   ]
  },
  {
   "cell_type": "code",
   "execution_count": null,
   "metadata": {},
   "outputs": [],
   "source": []
  }
 ],
 "metadata": {
  "kernelspec": {
   "display_name": "Python 3",
   "language": "python",
   "name": "python3"
  },
  "language_info": {
   "codemirror_mode": {
    "name": "ipython",
    "version": 3
   },
   "file_extension": ".py",
   "mimetype": "text/x-python",
   "name": "python",
   "nbconvert_exporter": "python",
   "pygments_lexer": "ipython3",
   "version": "3.7.3"
  }
 },
 "nbformat": 4,
 "nbformat_minor": 2
}
